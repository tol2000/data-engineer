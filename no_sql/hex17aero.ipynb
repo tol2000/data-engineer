{
 "cells": [
  {
   "cell_type": "code",
   "execution_count": 49,
   "metadata": {},
   "outputs": [
    {
     "name": "stdout",
     "output_type": "stream",
     "text": [
      "Cluster's current namespace is test\n"
     ]
    }
   ],
   "source": [
    "from __future__ import print_function\n",
    "import aerospike\n",
    "from aerospike import predicates\n",
    "import logging\n",
    "import time\n",
    "\n",
    "logging.getLogger().setLevel(logging.WARNING)\n",
    "\n",
    "maxLoops = 100\n",
    "\n",
    "aeroHost = (\"127.0.0.1\", 3000)\n",
    "aeroSet = \"customers\"\n",
    "\n",
    "# Поскольку предупреждали, что запуск будет производиться на чистом аэроспайке,\n",
    "#   мы не знаем, какой там неймспейс, в итоге берем первый попавшийся :)\n",
    "aeroNameSpace = client.info_node(\"namespaces\", aeroHost, None).split(\"\\n\")[0].split(\"\\t\")[1]\n",
    "print(\"Cluster's current namespace is\",aeroNameSpace)"
   ]
  },
  {
   "cell_type": "code",
   "execution_count": 39,
   "metadata": {},
   "outputs": [],
   "source": [
    "# Configure the client\n",
    "config = {\n",
    "    'hosts': [ aeroHost ]\n",
    "}"
   ]
  },
  {
   "cell_type": "code",
   "execution_count": 40,
   "metadata": {},
   "outputs": [],
   "source": [
    "# Create a client and connect it to the cluster\n",
    "try:\n",
    "    client = aerospike.client(config).connect()\n",
    "except:\n",
    "    import sys\n",
    "    print(\"failed to connect to the cluster with\", config['hosts'])\n",
    "    sys.exit(1)"
   ]
  },
  {
   "cell_type": "code",
   "execution_count": 63,
   "metadata": {},
   "outputs": [
    {
     "ename": "ParamError",
     "evalue": "(-2, 'policy must be a dict', 'src/main/policy.c', 557, False)",
     "output_type": "error",
     "traceback": [
      "\u001b[0;31m---------------------------------------------------------------------------\u001b[0m",
      "\u001b[0;31mParamError\u001b[0m                                Traceback (most recent call last)",
      "\u001b[0;32m<ipython-input-63-04c49a91f5f1>\u001b[0m in \u001b[0;36m<module>\u001b[0;34m\u001b[0m\n\u001b[0;32m----> 1\u001b[0;31m \u001b[0mclient\u001b[0m\u001b[0;34m.\u001b[0m\u001b[0mindex_string_create\u001b[0m\u001b[0;34m(\u001b[0m\u001b[0maeroNameSpace\u001b[0m\u001b[0;34m,\u001b[0m \u001b[0maeroSet\u001b[0m\u001b[0;34m,\u001b[0m \u001b[0;34m\"phone_number\"\u001b[0m\u001b[0;34m,\u001b[0m \u001b[0maerospike\u001b[0m\u001b[0;34m.\u001b[0m\u001b[0mINDEX_STRING\u001b[0m\u001b[0;34m,\u001b[0m \u001b[0;34m\"_phone_number_idx\"\u001b[0m\u001b[0;34m)\u001b[0m\u001b[0;34m\u001b[0m\u001b[0;34m\u001b[0m\u001b[0m\n\u001b[0m\u001b[1;32m      2\u001b[0m \u001b[0maeroQuery\u001b[0m \u001b[0;34m=\u001b[0m \u001b[0mclient\u001b[0m\u001b[0;34m.\u001b[0m\u001b[0mquery\u001b[0m\u001b[0;34m(\u001b[0m\u001b[0maeroNameSpace\u001b[0m\u001b[0;34m,\u001b[0m \u001b[0maeroSet\u001b[0m\u001b[0;34m)\u001b[0m\u001b[0;34m\u001b[0m\u001b[0;34m\u001b[0m\u001b[0m\n",
      "\u001b[0;31mParamError\u001b[0m: (-2, 'policy must be a dict', 'src/main/policy.c', 557, False)"
     ]
    }
   ],
   "source": [
    "client.index_string_create(aeroNameSpace, aeroSet, \"phone_number\", aerospike.INDEX_STRING, aeroNameSpace+_+aeroSet+\"_phone_number_idx\")\n",
    "aeroQuery = client.query(aeroNameSpace, aeroSet)"
   ]
  },
  {
   "cell_type": "code",
   "execution_count": 54,
   "metadata": {},
   "outputs": [
    {
     "ename": "IndexNotFound",
     "evalue": "(201, 'AEROSPIKE_ERR_INDEX_NOT_FOUND', 'src/main/aerospike/aerospike_query.c', 345, False)",
     "output_type": "error",
     "traceback": [
      "\u001b[0;31m---------------------------------------------------------------------------\u001b[0m",
      "\u001b[0;31mIndexNotFound\u001b[0m                             Traceback (most recent call last)",
      "\u001b[0;32m<ipython-input-54-e98c24df2460>\u001b[0m in \u001b[0;36m<module>\u001b[0;34m\u001b[0m\n\u001b[1;32m      1\u001b[0m \u001b[0maeroQuery\u001b[0m\u001b[0;34m.\u001b[0m\u001b[0mselect\u001b[0m\u001b[0;34m(\u001b[0m\u001b[0;34m\"lifetime_value\"\u001b[0m\u001b[0;34m)\u001b[0m\u001b[0;34m\u001b[0m\u001b[0;34m\u001b[0m\u001b[0m\n\u001b[1;32m      2\u001b[0m \u001b[0maeroQuery\u001b[0m\u001b[0;34m.\u001b[0m\u001b[0mwhere\u001b[0m\u001b[0;34m(\u001b[0m\u001b[0mpredicates\u001b[0m\u001b[0;34m.\u001b[0m\u001b[0mequals\u001b[0m\u001b[0;34m(\u001b[0m\u001b[0;34m\"phone_number\"\u001b[0m\u001b[0;34m,\u001b[0m \u001b[0;36m2\u001b[0m\u001b[0;34m)\u001b[0m\u001b[0;34m)\u001b[0m\u001b[0;34m\u001b[0m\u001b[0;34m\u001b[0m\u001b[0m\n\u001b[0;32m----> 3\u001b[0;31m \u001b[0mresults\u001b[0m \u001b[0;34m=\u001b[0m \u001b[0maeroQuery\u001b[0m\u001b[0;34m.\u001b[0m\u001b[0mresults\u001b[0m\u001b[0;34m(\u001b[0m \u001b[0;34m{\u001b[0m\u001b[0;34m'total_timeout'\u001b[0m\u001b[0;34m:\u001b[0m\u001b[0;36m2000\u001b[0m\u001b[0;34m}\u001b[0m\u001b[0;34m)\u001b[0m\u001b[0;34m\u001b[0m\u001b[0;34m\u001b[0m\u001b[0m\n\u001b[0m\u001b[1;32m      4\u001b[0m \u001b[0mprint\u001b[0m\u001b[0;34m(\u001b[0m\u001b[0mresults\u001b[0m\u001b[0;34m)\u001b[0m\u001b[0;34m\u001b[0m\u001b[0;34m\u001b[0m\u001b[0m\n",
      "\u001b[0;31mIndexNotFound\u001b[0m: (201, 'AEROSPIKE_ERR_INDEX_NOT_FOUND', 'src/main/aerospike/aerospike_query.c', 345, False)"
     ]
    }
   ],
   "source": [
    "aeroQuery.select(\"lifetime_value\")\n",
    "aeroQuery.where(predicates.equals(\"phone_number\", 2))\n",
    "results = aeroQuery.results( {'total_timeout':2000})\n",
    "print(results)"
   ]
  },
  {
   "cell_type": "code",
   "execution_count": 56,
   "metadata": {},
   "outputs": [],
   "source": [
    "def add_customer(customer_id, phone_number, lifetime_value):\n",
    "    try:\n",
    "        client.put( (aeroNameSpace, aeroSet, customer_id), {\n",
    "            'phone_number': phone_number,\n",
    "            'lifetime_value': lifetime_value\n",
    "         })\n",
    "    except Exception as e:\n",
    "        logger.error(\"error: {0}\".format(e))"
   ]
  },
  {
   "cell_type": "code",
   "execution_count": 57,
   "metadata": {},
   "outputs": [],
   "source": [
    "def get_ltv_by_id(customer_id):\n",
    "    try:\n",
    "        (key, metadata, record) = client.get((aeroNameSpace, aeroSet, customer_id))\n",
    "        return record.get(\"lifetime_value\")\n",
    "    except Exception as e:\n",
    "        logger.error('Requested non-existent customer ' + str(customer_id))"
   ]
  },
  {
   "cell_type": "code",
   "execution_count": 43,
   "metadata": {},
   "outputs": [],
   "source": [
    "def get_ltv_by_phone(phone_number):\n",
    "    # Здесь, вероятно, потребуется как-то искать по доп. индексу по телефону\n",
    "    # Либо сделать ход конем, что, по-моему, даже интереснее,\n",
    "    #   и создать отдельный сет (таблицу) для связи телефон--кастомер_ид, где ключом выступает уже телефон\n",
    "    #   или для этих целей в аэроспайке есть какие-то проекции... :)\n",
    "    try:\n",
    "        (key, metadata, record) = client.get(customer_id)\n",
    "        return record.get('ltv')\n",
    "    except Exception as e:\n",
    "        logging.error('Requested phone number is not found ' + str(phone_number))"
   ]
  },
  {
   "cell_type": "code",
   "execution_count": 60,
   "metadata": {},
   "outputs": [
    {
     "name": "stdout",
     "output_type": "stream",
     "text": [
      "Insert time by id:  0.03892064094543457\n"
     ]
    }
   ],
   "source": [
    "startTime = time.time()\n",
    "for i in range(0, maxLoops):\n",
    "    add_customer(i,i,i + 1)\n",
    "print(\"Insert time by id: \", (time.time()-startTime))"
   ]
  },
  {
   "cell_type": "code",
   "execution_count": 61,
   "metadata": {},
   "outputs": [
    {
     "name": "stdout",
     "output_type": "stream",
     "text": [
      "All is OK! :)\n"
     ]
    }
   ],
   "source": [
    "print (\"All is OK! :)\")"
   ]
  },
  {
   "cell_type": "code",
   "execution_count": 29,
   "metadata": {},
   "outputs": [],
   "source": [
    "# Close the connection to the Aerospike cluster\n",
    "client.close()"
   ]
  },
  {
   "cell_type": "code",
   "execution_count": null,
   "metadata": {},
   "outputs": [],
   "source": []
  }
 ],
 "metadata": {
  "kernelspec": {
   "display_name": "Python 3",
   "language": "python",
   "name": "python3"
  },
  "language_info": {
   "codemirror_mode": {
    "name": "ipython",
    "version": 3
   },
   "file_extension": ".py",
   "mimetype": "text/x-python",
   "name": "python",
   "nbconvert_exporter": "python",
   "pygments_lexer": "ipython3",
   "version": "3.7.6"
  }
 },
 "nbformat": 4,
 "nbformat_minor": 4
}
