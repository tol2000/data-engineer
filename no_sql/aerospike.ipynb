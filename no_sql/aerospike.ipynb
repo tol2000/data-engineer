{
 "cells": [
  {
   "cell_type": "code",
   "execution_count": 8,
   "metadata": {},
   "outputs": [
    {
     "name": "stdout",
     "output_type": "stream",
     "text": [
      "('test', 'demo', 'foo') ('test', 'demo', None, bytearray(b'\\xf5~\\xc1\\x835\\xf7\\x10\\x0c\\x04X\\xf8\\xa6D\\xbc\\xbcvm\\x93G\\x1e'))\n"
     ]
    }
   ],
   "source": [
    "print(key, key1)"
   ]
  },
  {
   "cell_type": "code",
   "execution_count": null,
   "metadata": {},
   "outputs": [],
   "source": [
    "# client.admin_cre\n",
    "\n",
    "namespace <namespace-name> {\n",
    "    # memory-size 4G           # 4GB of memory to be used for index and data\n",
    "    # replication-factor 2     # For multiple nodes, keep 2 copies of the data\n",
    "    # high-water-memory-pct 60 # Evict non-zero TTL data if capacity exceeds\n",
    "                               # 60% of 4GB\n",
    "    # stop-writes-pct 90       # Stop writes if capacity exceeds 90% of 4GB\n",
    "    # default-ttl 0            # Writes from client that do not provide a TTL\n",
    "                               # will default to 0 or never expire\n",
    "    # storage-engine memory    # Store data in memory only\n",
    "}"
   ]
  },
  {
   "cell_type": "code",
   "execution_count": 19,
   "metadata": {},
   "outputs": [],
   "source": [
    "# import the module\n",
    "from __future__ import print_function\n",
    "import aerospike"
   ]
  },
  {
   "cell_type": "code",
   "execution_count": 20,
   "metadata": {},
   "outputs": [],
   "source": [
    "# Configure the client\n",
    "config = {\n",
    "  'hosts': [ ('127.0.0.1', 3000) ]\n",
    "}"
   ]
  },
  {
   "cell_type": "code",
   "execution_count": 21,
   "metadata": {},
   "outputs": [],
   "source": [
    "# Create a client and connect it to the cluster\n",
    "try:\n",
    "    client = aerospike.client(config).connect()\n",
    "except:\n",
    "    import sys\n",
    "    print(\"failed to connect to the cluster with\", config['hosts'])\n",
    "    sys.exit(1)"
   ]
  },
  {
   "cell_type": "code",
   "execution_count": 27,
   "metadata": {},
   "outputs": [
    {
     "data": {
      "text/plain": [
       "'namespaces\\ttest\\n'"
      ]
     },
     "execution_count": 27,
     "metadata": {},
     "output_type": "execute_result"
    }
   ],
   "source": [
    "client.info_node(\"namespaces\", ('127.0.0.1', 3000), None)"
   ]
  },
  {
   "cell_type": "code",
   "execution_count": 11,
   "metadata": {},
   "outputs": [],
   "source": [
    "# Records are addressable via a tuple of (namespace, set, key)\n",
    "# key = ('test', 'demo', 'foo')\n",
    "key = ('test', 'demo123', 'foo')\n",
    "\n",
    "try:\n",
    "    # Write a record\n",
    "    client.put(key, {\n",
    "        'name': 'John Doe',\n",
    "        'age': 33\n",
    "    })\n",
    "except Exception as e:\n",
    "    import sys\n",
    "    print(\"error: {0}\".format(e), file=sys.stderr)"
   ]
  },
  {
   "cell_type": "code",
   "execution_count": 12,
   "metadata": {},
   "outputs": [
    {
     "name": "stdout",
     "output_type": "stream",
     "text": [
      "('test', 'demo123', None, bytearray(b'{\\t\\x7f\\x98\\tM/\\x0c\\xcb\\xf2\\\\\\x12#m\\xeee\\x03$0\\xb9')) {'ttl': 2592000, 'gen': 2} {'name': 'John Doe', 'age': 33}\n"
     ]
    }
   ],
   "source": [
    "# Read a record\n",
    "(key1, metadata, record) = client.get(key)\n",
    "print(key1, metadata, record)"
   ]
  },
  {
   "cell_type": "code",
   "execution_count": 13,
   "metadata": {},
   "outputs": [],
   "source": [
    "# Close the connection to the Aerospike cluster\n",
    "client.close()"
   ]
  },
  {
   "cell_type": "code",
   "execution_count": null,
   "metadata": {},
   "outputs": [],
   "source": []
  }
 ],
 "metadata": {
  "kernelspec": {
   "display_name": "Python 3",
   "language": "python",
   "name": "python3"
  },
  "language_info": {
   "codemirror_mode": {
    "name": "ipython",
    "version": 3
   },
   "file_extension": ".py",
   "mimetype": "text/x-python",
   "name": "python",
   "nbconvert_exporter": "python",
   "pygments_lexer": "ipython3",
   "version": "3.7.6"
  }
 },
 "nbformat": 4,
 "nbformat_minor": 4
}
