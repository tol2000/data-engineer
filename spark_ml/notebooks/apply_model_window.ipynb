{
 "cells": [
  {
   "cell_type": "markdown",
   "metadata": {},
   "source": [
    "# Прием и обработка твитов микробатчем"
   ]
  },
  {
   "cell_type": "markdown",
   "metadata": {},
   "source": [
    "## Инициализация"
   ]
  },
  {
   "cell_type": "code",
   "execution_count": 17,
   "metadata": {},
   "outputs": [],
   "source": [
    "import org.apache.spark.sql.types.{StructType, StringType, IntegerType, TimestampType}\n",
    "import org.apache.spark.ml.{Pipeline, PipelineModel}\n",
    "import org.apache.spark.sql.functions._\n",
    "import org.apache.spark.sql.DataFrame\n",
    "import org.apache.spark.sql.Row\n",
    "import org.apache.toree.kernel.api\n",
    "import java.util.Calendar"
   ]
  },
  {
   "cell_type": "code",
   "execution_count": 18,
   "metadata": {},
   "outputs": [
    {
     "name": "stdout",
     "output_type": "stream",
     "text": [
      "Current spark version is 2.4.4\n"
     ]
    }
   ],
   "source": [
    "println(s\"Current spark version is ${spark.version}\")"
   ]
  },
  {
   "cell_type": "markdown",
   "metadata": {},
   "source": [
    "## Чтение модели"
   ]
  },
  {
   "cell_type": "code",
   "execution_count": 19,
   "metadata": {},
   "outputs": [
    {
     "data": {
      "text/plain": [
       "modelPath = /home/jovyan/models/spark-ml-model\n",
       "model = pipeline_6cb85880407d\n"
      ]
     },
     "metadata": {},
     "output_type": "display_data",
     "source": "user"
    },
    {
     "data": {
      "text/plain": [
       "pipeline_6cb85880407d"
      ]
     },
     "execution_count": 19,
     "metadata": {},
     "output_type": "execute_result"
    }
   ],
   "source": [
    "val modelPath = \"/home/jovyan/models/spark-ml-model\"\n",
    "val model = PipelineModel.load(modelPath)"
   ]
  },
  {
   "cell_type": "markdown",
   "metadata": {},
   "source": [
    "## Определяем схему"
   ]
  },
  {
   "cell_type": "code",
   "execution_count": 21,
   "metadata": {},
   "outputs": [
    {
     "data": {
      "text/plain": [
       "inputStreamPath = /home/jovyan/work/events-stream\n",
       "getProbability = UserDefinedFunction(<function2>,DoubleType,Some(List(org.apache.spark.ml.linalg.VectorUDT@3bfc3ba7, IntegerType)))\n",
       "dataSchema = StructType(StructField(tweet,StringType,true), StructField(hiddentargetclue,IntegerType,true), StructField(timestamp,TimestampType,true))\n"
      ]
     },
     "metadata": {},
     "output_type": "display_data",
     "source": "user"
    },
    {
     "data": {
      "text/plain": [
       "StructType(StructField(tweet,StringType,true), StructField(hiddentargetclue,IntegerType,true), StructField(timestamp,TimestampType,true))"
      ]
     },
     "execution_count": 21,
     "metadata": {},
     "output_type": "execute_result"
    }
   ],
   "source": [
    "val inputStreamPath = \"/home/jovyan/work/events-stream\"\n",
    "//val outputStreamPath = \"/home/jovyan/work/events-stream-out\"\n",
    "\n",
    "val dataSchema = new StructType()\n",
    "    .add(\"tweet\", StringType)\n",
    "    .add(\"hiddentargetclue\", IntegerType)\n",
    "    .add(\"timestamp\", TimestampType)"
   ]
  },
  {
   "cell_type": "markdown",
   "metadata": {},
   "source": [
    "## Определяем стриминговый датасет и применяем к нему модель для предсказания"
   ]
  },
  {
   "cell_type": "code",
   "execution_count": 52,
   "metadata": {},
   "outputs": [
    {
     "data": {
      "text/plain": [
       "getPrediction01 = UserDefinedFunction(<function1>,IntegerType,Some(List(org.apache.spark.ml.linalg.VectorUDT@3bfc3ba7)))\n",
       "inputDF = [window: struct<start: timestamp, end: timestamp>, predicted_neg: bigint ... 3 more fields]\n"
      ]
     },
     "metadata": {},
     "output_type": "display_data",
     "source": "user"
    },
    {
     "data": {
      "text/plain": [
       "lastException: Throwable = null\n"
      ]
     },
     "metadata": {},
     "output_type": "display_data",
     "source": "user"
    },
    {
     "data": {
      "text/plain": [
       "[window: struct<start: timestamp, end: timestamp>, predicted_neg: bigint ... 3 more fields]"
      ]
     },
     "execution_count": 52,
     "metadata": {},
     "output_type": "execute_result"
    }
   ],
   "source": [
    "// Определяем udf для предсказания негативного (0) или позитивного (1) твита\n",
    "val getPrediction01 =\n",
    "    udf(\n",
    "        (prediction: org.apache.spark.ml.linalg.Vector) =>\n",
    "        if ( prediction(0) >= prediction(1) ) 0 else 1 // При равенстве будем склоняться к 0\n",
    "    )\n",
    "\n",
    "/*\n",
    "val inputDF = model.transform(\n",
    "    spark\n",
    "    .readStream\n",
    "    .schema(dataSchema)\n",
    "    .json(inputStreamPath)\n",
    "    .withWatermark(\"timestamp\", \"60 seconds\") // задаем время устаревания данных в потоке пока что, на всякий случай, гораздо больше, чем предположительно нужно\n",
    "    )\n",
    "    .select(\n",
    "        window($\"timestamp\", \"10 seconds\", \"5 seconds\").alias(\"window\"),\n",
    "        getPrediction01($\"probability\").alias(\"prediction01\"),\n",
    "        ($\"hiddentargetclue\").alias(\"hiddentargetclue\")\n",
    "    )\n",
    "    .where($\"prediction01\"===lit(1))\n",
    "    .groupBy($\"window\")\n",
    "    .agg(count(\"*\").alias(\"qnty\"))\n",
    "*/\n",
    "\n",
    "val inputDF =\n",
    "    model.transform(\n",
    "        spark\n",
    "        .readStream\n",
    "        .schema(dataSchema)\n",
    "        .json(inputStreamPath)\n",
    "        .withWatermark(\"timestamp\", \"60 seconds\") // задаем время устаревания данных в потоке пока что, на всякий случай, гораздо больше, чем предположительно нужно\n",
    "    )\n",
    "    .withColumn(\"prediction01\",getPrediction01($\"probability\"))\n",
    "    .selectExpr(\n",
    "        \"window(timestamp, '10 seconds', '5 seconds') as window\",\n",
    "        \"case when prediction01 = 0 then 1 else 0 end as pred_neg\",\n",
    "        \"case when prediction01 = 1 then 1 else 0 end as pred_pos\",\n",
    "        // В этом кейсе можем себе позволить вывести также и реальные метки негатива и позитива для сравнения с предсказанными :)\n",
    "        \"case when hiddentargetclue = 0 then 1 else 0 end as clue_neg\",\n",
    "        \"case when hiddentargetclue = 1 then 1 else 0 end as clue_pos\"\n",
    "    )\n",
    "    .groupBy($\"window\")\n",
    "    .agg(\n",
    "        sum(\"pred_neg\").alias(\"predicted_neg\"),\n",
    "        sum(\"pred_pos\").alias(\"predicted_pos\"),\n",
    "        sum(\"clue_neg\").alias(\"clue_neg\"),\n",
    "        sum(\"clue_pos\").alias(\"clue_pos\")\n",
    "    )"
   ]
  },
  {
   "cell_type": "markdown",
   "metadata": {},
   "source": [
    "## Определяем потоковый запрос и стартуем его, обрабатывая батчами"
   ]
  },
  {
   "cell_type": "code",
   "execution_count": 55,
   "metadata": {
    "scrolled": true
   },
   "outputs": [
    {
     "data": {
      "text/plain": [
       "fRuns = 0\n",
       "fTweets = 0\n",
       "stream = org.apache.spark.sql.execution.streaming.StreamingQueryWrapper@797580f3\n"
      ]
     },
     "metadata": {},
     "output_type": "display_data",
     "source": "user"
    },
    {
     "data": {
      "text/plain": [
       "org.apache.spark.sql.execution.streaming.StreamingQueryWrapper@797580f3"
      ]
     },
     "execution_count": 55,
     "metadata": {},
     "output_type": "execute_result"
    },
    {
     "name": "stdout",
     "output_type": "stream",
     "text": [
      "+------------------------------------------+-------------+-------------+--------+--------+\n",
      "|window                                    |predicted_neg|predicted_pos|clue_neg|clue_pos|\n",
      "+------------------------------------------+-------------+-------------+--------+--------+\n",
      "|[2020-01-29 16:51:10, 2020-01-29 16:51:20]|14           |28           |23      |19      |\n",
      "|[2020-01-29 16:51:05, 2020-01-29 16:51:15]|18           |39           |32      |25      |\n",
      "|[2020-01-29 16:51:00, 2020-01-29 16:51:10]|8            |22           |17      |13      |\n",
      "|[2020-01-29 16:50:55, 2020-01-29 16:51:05]|22           |24           |21      |25      |\n",
      "|[2020-01-29 16:50:50, 2020-01-29 16:51:00]|23           |19           |16      |26      |\n",
      "|[2020-01-29 16:50:45, 2020-01-29 16:50:55]|18           |24           |16      |26      |\n",
      "|[2020-01-29 16:50:40, 2020-01-29 16:50:50]|18           |29           |20      |27      |\n",
      "|[2020-01-29 16:50:35, 2020-01-29 16:50:45]|11           |20           |16      |15      |\n",
      "|[2020-01-29 16:50:30, 2020-01-29 16:50:40]|18           |30           |29      |19      |\n",
      "|[2020-01-29 16:50:25, 2020-01-29 16:50:35]|17           |32           |30      |19      |\n",
      "|[2020-01-29 16:50:20, 2020-01-29 16:50:30]|13           |20           |20      |13      |\n",
      "|[2020-01-29 16:50:15, 2020-01-29 16:50:25]|16           |23           |20      |19      |\n",
      "|[2020-01-29 16:50:10, 2020-01-29 16:50:20]|21           |32           |27      |26      |\n",
      "|[2020-01-29 16:50:05, 2020-01-29 16:50:15]|15           |28           |23      |20      |\n",
      "|[2020-01-29 16:50:00, 2020-01-29 16:50:10]|16           |29           |23      |22      |\n",
      "|[2020-01-29 16:49:55, 2020-01-29 16:50:05]|19           |33           |27      |25      |\n",
      "|[2020-01-29 16:49:50, 2020-01-29 16:50:00]|5            |14           |10      |9       |\n",
      "|[2020-01-29 16:49:45, 2020-01-29 16:49:55]|5            |23           |12      |16      |\n",
      "|[2020-01-29 16:49:40, 2020-01-29 16:49:50]|11           |32           |21      |22      |\n",
      "|[2020-01-29 16:49:35, 2020-01-29 16:49:45]|14           |20           |19      |15      |\n",
      "+------------------------------------------+-------------+-------------+--------+--------+\n",
      "only showing top 20 rows\n",
      "\n",
      "+------------------------------------------+-------------+-------------+--------+--------+\n",
      "|window                                    |predicted_neg|predicted_pos|clue_neg|clue_pos|\n",
      "+------------------------------------------+-------------+-------------+--------+--------+\n",
      "|[2020-01-29 16:51:40, 2020-01-29 16:51:50]|2            |9            |4       |7       |\n",
      "|[2020-01-29 16:51:35, 2020-01-29 16:51:45]|9            |26           |14      |21      |\n",
      "|[2020-01-29 16:51:30, 2020-01-29 16:51:40]|7            |17           |10      |14      |\n",
      "|[2020-01-29 16:51:25, 2020-01-29 16:51:35]|10           |7            |12      |5       |\n",
      "|[2020-01-29 16:51:20, 2020-01-29 16:51:30]|17           |16           |20      |13      |\n",
      "|[2020-01-29 16:51:15, 2020-01-29 16:51:25]|11           |22           |19      |14      |\n",
      "|[2020-01-29 16:51:10, 2020-01-29 16:51:20]|18           |41           |34      |25      |\n",
      "|[2020-01-29 16:51:05, 2020-01-29 16:51:15]|18           |39           |32      |25      |\n",
      "|[2020-01-29 16:51:00, 2020-01-29 16:51:10]|8            |22           |17      |13      |\n",
      "|[2020-01-29 16:50:55, 2020-01-29 16:51:05]|22           |24           |21      |25      |\n",
      "|[2020-01-29 16:50:50, 2020-01-29 16:51:00]|23           |19           |16      |26      |\n",
      "|[2020-01-29 16:50:45, 2020-01-29 16:50:55]|18           |24           |16      |26      |\n",
      "|[2020-01-29 16:50:40, 2020-01-29 16:50:50]|18           |29           |20      |27      |\n",
      "|[2020-01-29 16:50:35, 2020-01-29 16:50:45]|11           |20           |16      |15      |\n",
      "|[2020-01-29 16:50:30, 2020-01-29 16:50:40]|18           |30           |29      |19      |\n",
      "|[2020-01-29 16:50:25, 2020-01-29 16:50:35]|17           |32           |30      |19      |\n",
      "|[2020-01-29 16:50:20, 2020-01-29 16:50:30]|13           |20           |20      |13      |\n",
      "|[2020-01-29 16:50:15, 2020-01-29 16:50:25]|16           |23           |20      |19      |\n",
      "|[2020-01-29 16:50:10, 2020-01-29 16:50:20]|21           |32           |27      |26      |\n",
      "|[2020-01-29 16:50:05, 2020-01-29 16:50:15]|15           |28           |23      |20      |\n",
      "+------------------------------------------+-------------+-------------+--------+--------+\n",
      "only showing top 20 rows\n",
      "\n",
      "+------------------------------------------+-------------+-------------+--------+--------+\n",
      "|window                                    |predicted_neg|predicted_pos|clue_neg|clue_pos|\n",
      "+------------------------------------------+-------------+-------------+--------+--------+\n",
      "|[2020-01-29 16:51:55, 2020-01-29 16:52:05]|8            |6            |9       |5       |\n",
      "|[2020-01-29 16:51:50, 2020-01-29 16:52:00]|13           |20           |17      |16      |\n",
      "|[2020-01-29 16:51:45, 2020-01-29 16:51:55]|10           |19           |15      |14      |\n",
      "|[2020-01-29 16:51:40, 2020-01-29 16:51:50]|7            |14           |11      |10      |\n",
      "|[2020-01-29 16:51:35, 2020-01-29 16:51:45]|9            |26           |14      |21      |\n",
      "|[2020-01-29 16:51:30, 2020-01-29 16:51:40]|7            |17           |10      |14      |\n",
      "|[2020-01-29 16:51:25, 2020-01-29 16:51:35]|10           |7            |12      |5       |\n",
      "|[2020-01-29 16:51:20, 2020-01-29 16:51:30]|17           |16           |20      |13      |\n",
      "|[2020-01-29 16:51:15, 2020-01-29 16:51:25]|11           |22           |19      |14      |\n",
      "|[2020-01-29 16:51:10, 2020-01-29 16:51:20]|18           |41           |34      |25      |\n",
      "|[2020-01-29 16:51:05, 2020-01-29 16:51:15]|18           |39           |32      |25      |\n",
      "|[2020-01-29 16:51:00, 2020-01-29 16:51:10]|8            |22           |17      |13      |\n",
      "|[2020-01-29 16:50:55, 2020-01-29 16:51:05]|22           |24           |21      |25      |\n",
      "|[2020-01-29 16:50:50, 2020-01-29 16:51:00]|23           |19           |16      |26      |\n",
      "|[2020-01-29 16:50:45, 2020-01-29 16:50:55]|18           |24           |16      |26      |\n",
      "|[2020-01-29 16:50:40, 2020-01-29 16:50:50]|18           |29           |20      |27      |\n",
      "|[2020-01-29 16:50:35, 2020-01-29 16:50:45]|11           |20           |16      |15      |\n",
      "|[2020-01-29 16:50:30, 2020-01-29 16:50:40]|18           |30           |29      |19      |\n",
      "|[2020-01-29 16:50:25, 2020-01-29 16:50:35]|17           |32           |30      |19      |\n",
      "|[2020-01-29 16:50:20, 2020-01-29 16:50:30]|13           |20           |20      |13      |\n",
      "+------------------------------------------+-------------+-------------+--------+--------+\n",
      "only showing top 20 rows\n",
      "\n",
      "+------------------------------------------+-------------+-------------+--------+--------+\n",
      "|window                                    |predicted_neg|predicted_pos|clue_neg|clue_pos|\n",
      "+------------------------------------------+-------------+-------------+--------+--------+\n",
      "|[2020-01-29 16:52:10, 2020-01-29 16:52:20]|7            |10           |8       |9       |\n",
      "|[2020-01-29 16:52:05, 2020-01-29 16:52:15]|12           |20           |14      |18      |\n",
      "|[2020-01-29 16:52:00, 2020-01-29 16:52:10]|10           |24           |17      |17      |\n",
      "|[2020-01-29 16:51:55, 2020-01-29 16:52:05]|13           |20           |20      |13      |\n",
      "|[2020-01-29 16:51:50, 2020-01-29 16:52:00]|13           |20           |17      |16      |\n",
      "|[2020-01-29 16:51:45, 2020-01-29 16:51:55]|10           |19           |15      |14      |\n",
      "|[2020-01-29 16:51:40, 2020-01-29 16:51:50]|7            |14           |11      |10      |\n",
      "|[2020-01-29 16:51:35, 2020-01-29 16:51:45]|9            |26           |14      |21      |\n",
      "|[2020-01-29 16:51:30, 2020-01-29 16:51:40]|7            |17           |10      |14      |\n",
      "|[2020-01-29 16:51:25, 2020-01-29 16:51:35]|10           |7            |12      |5       |\n",
      "|[2020-01-29 16:51:20, 2020-01-29 16:51:30]|17           |16           |20      |13      |\n",
      "|[2020-01-29 16:51:15, 2020-01-29 16:51:25]|11           |22           |19      |14      |\n",
      "|[2020-01-29 16:51:10, 2020-01-29 16:51:20]|18           |41           |34      |25      |\n",
      "|[2020-01-29 16:51:05, 2020-01-29 16:51:15]|18           |39           |32      |25      |\n",
      "|[2020-01-29 16:51:00, 2020-01-29 16:51:10]|8            |22           |17      |13      |\n",
      "|[2020-01-29 16:50:55, 2020-01-29 16:51:05]|22           |24           |21      |25      |\n",
      "|[2020-01-29 16:50:50, 2020-01-29 16:51:00]|23           |19           |16      |26      |\n",
      "|[2020-01-29 16:50:45, 2020-01-29 16:50:55]|18           |24           |16      |26      |\n",
      "|[2020-01-29 16:50:40, 2020-01-29 16:50:50]|18           |29           |20      |27      |\n",
      "|[2020-01-29 16:50:35, 2020-01-29 16:50:45]|11           |20           |16      |15      |\n",
      "+------------------------------------------+-------------+-------------+--------+--------+\n",
      "only showing top 20 rows\n",
      "\n",
      "Job 269 cancelled part of cancelled job group a0024829-9fc3-4b68-9b57-07e337e1c3ab\n"
     ]
    }
   ],
   "source": [
    "var fRuns = 0\n",
    "var fTweets:Long = 0\n",
    "\n",
    "// Микробатч для вывода результата предсказания\n",
    "// Выводится вероятность негативного твита\n",
    "// В задании написано, что это последняя колонка, но она здесь вроде первая (в позиции 0)\n",
    "val stream = inputDF.writeStream.outputMode(\"complete\").foreachBatch {\n",
    "    (batchDF: DataFrame, batchId: Long) => {\n",
    "        try {\n",
    "            fRuns += 1\n",
    "            batchDF.orderBy(($\"window\").desc).show(false)\n",
    "        } catch {\n",
    "            case e:Throwable => {\n",
    "                println(e.getMessage)\n",
    "            }\n",
    "        }\n",
    "    }\n",
    "}.start()"
   ]
  },
  {
   "cell_type": "markdown",
   "metadata": {},
   "source": [
    "## Останов чтения потока"
   ]
  },
  {
   "cell_type": "code",
   "execution_count": 56,
   "metadata": {},
   "outputs": [],
   "source": [
    "stream.stop()"
   ]
  },
  {
   "cell_type": "code",
   "execution_count": null,
   "metadata": {},
   "outputs": [],
   "source": []
  }
 ],
 "metadata": {
  "kernelspec": {
   "display_name": "Apache Toree - Scala",
   "language": "scala",
   "name": "apache_toree_scala"
  },
  "language_info": {
   "codemirror_mode": "text/x-scala",
   "file_extension": ".scala",
   "mimetype": "text/x-scala",
   "name": "scala",
   "pygments_lexer": "scala",
   "version": "2.11.12"
  }
 },
 "nbformat": 4,
 "nbformat_minor": 4
}
