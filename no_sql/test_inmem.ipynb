{
 "cells": [
  {
   "cell_type": "code",
   "execution_count": 1,
   "metadata": {},
   "outputs": [
    {
     "name": "stdout",
     "output_type": "stream",
     "text": [
      "Insert time by id:  0.016225576400756836\n",
      "Select time by id:  0.021757125854492188\n",
      "Select time by phone:  3.76003360748291\n",
      "All is OK! :)\n"
     ]
    }
   ],
   "source": [
    "import logging\n",
    "import time\n",
    "\n",
    "logging.getLogger().setLevel(logging.WARNING)\n",
    "\n",
    "maxLoops = 10000\n",
    "\n",
    "store = {}\n",
    "\n",
    "def add_customer(customer_id, phone_number, lifetime_value):\n",
    "    store[customer_id] = {'phone': phone_number, 'ltv': lifetime_value}\n",
    "\n",
    "def get_ltv_by_id(customer_id):\n",
    "    item = store.get(customer_id, {})\n",
    "    if (item == {}):\n",
    "        logging.error('Requested non-existent customer ' + str(customer_id))\n",
    "    else:\n",
    "        return item.get('ltv')\n",
    "\n",
    "def get_ltv_by_phone(phone_number):\n",
    "    for v in store.values():\n",
    "        if (v['phone'] == phone_number):\n",
    "            return v['ltv']\n",
    "    logging.error('Requested phone number is not found ' + str(phone_number))\n",
    "\n",
    "startTime = time.time()\n",
    "for i in range(0,maxLoops):\n",
    "    if i != -5121:\n",
    "        add_customer(i,i,i + 1)\n",
    "print(\"Insert time by id: \", (time.time()-startTime))\n",
    "        \n",
    "startTime = time.time()\n",
    "for i in range(0,maxLoops):\n",
    "    assert (i + 1 == get_ltv_by_id(i)), \"No LTV by ID \" + str(i)\n",
    "print(\"Select time by id: \", (time.time()-startTime))\n",
    "\n",
    "startTime = time.time()\n",
    "for i in range(0,maxLoops):\n",
    "    assert (i + 1 == get_ltv_by_phone(i)), \"No LTV by phone \" + str(i)\n",
    "print(\"Select time by phone: \", (time.time()-startTime))\n",
    "\n",
    "print(\"All is OK! :)\")\n"
   ]
  },
  {
   "cell_type": "code",
   "execution_count": null,
   "metadata": {},
   "outputs": [],
   "source": []
  }
 ],
 "metadata": {
  "kernelspec": {
   "display_name": "Python 3",
   "language": "python",
   "name": "python3"
  },
  "language_info": {
   "codemirror_mode": {
    "name": "ipython",
    "version": 3
   },
   "file_extension": ".py",
   "mimetype": "text/x-python",
   "name": "python",
   "nbconvert_exporter": "python",
   "pygments_lexer": "ipython3",
   "version": "3.7.3"
  }
 },
 "nbformat": 4,
 "nbformat_minor": 4
}
