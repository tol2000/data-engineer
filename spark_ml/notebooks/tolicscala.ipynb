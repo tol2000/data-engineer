{
 "cells": [
  {
   "cell_type": "code",
   "execution_count": 9,
   "metadata": {},
   "outputs": [
    {
     "data": {
      "text/plain": [
       "Map(aaa -> aaa)"
      ]
     },
     "execution_count": 9,
     "metadata": {},
     "output_type": "execute_result"
    }
   ],
   "source": [
    "import org.apache.toree.magic.CellMagicOutput\n",
    "val a = new CellMagicOutput((\"aaa\",\"aaa\"))\n",
    "a.asMap"
   ]
  },
  {
   "cell_type": "code",
   "execution_count": null,
   "metadata": {},
   "outputs": [],
   "source": [
    "println(\"Hello scala!\")\n",
    "magic.\n",
    "println(\"Hello scala again!\")"
   ]
  },
  {
   "cell_type": "code",
   "execution_count": 2,
   "metadata": {},
   "outputs": [
    {
     "name": "stdout",
     "output_type": "stream",
     "text": [
      "Hello scala!\n"
     ]
    }
   ],
   "source": [
    "println(\"Hello scala!\")"
   ]
  },
  {
   "cell_type": "code",
   "execution_count": 16,
   "metadata": {},
   "outputs": [
    {
     "name": "stdout",
     "output_type": "stream",
     "text": [
      "apply_model.ipynb\n",
      "create_python_model.ipynb\n",
      "create_spark_model.ipynb\n",
      "create_spark_model_lr.ipynb\n",
      "events-stream\n",
      "predictionsDF.csv\n",
      "__pycache__\n",
      "python_model_spark_inference.ipynb\n",
      "sentiment_model.py\n",
      "spark-warehouse\n",
      "tol_create_python_model.ipynb\n",
      "tolic.ipynb\n",
      "tolicscala.ipynb\n",
      "tol_jup_shortcuts.json\n",
      "tol_python_model_spark_inference.ipynb\n",
      "tweet_feeder.ipynb\n",
      "TERM environment variable not set.\n"
     ]
    },
    {
     "data": {
      "text/plain": [
       "warning: there were two feature warnings; re-run with -feature for details\n"
      ]
     },
     "metadata": {},
     "output_type": "display_data",
     "source": "user"
    },
    {
     "data": {
      "text/plain": [
       "1"
      ]
     },
     "execution_count": 16,
     "metadata": {},
     "output_type": "execute_result"
    }
   ],
   "source": [
    "{ \"ls\" !}\n",
    "{\"clear\" !}"
   ]
  },
  {
   "cell_type": "code",
   "execution_count": null,
   "metadata": {},
   "outputs": [],
   "source": []
  }
 ],
 "metadata": {
  "kernelspec": {
   "display_name": "Apache Toree - Scala",
   "language": "scala",
   "name": "apache_toree_scala"
  },
  "language_info": {
   "codemirror_mode": "text/x-scala",
   "file_extension": ".scala",
   "mimetype": "text/x-scala",
   "name": "scala",
   "pygments_lexer": "scala",
   "version": "2.11.12"
  }
 },
 "nbformat": 4,
 "nbformat_minor": 4
}
