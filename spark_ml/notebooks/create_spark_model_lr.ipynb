{
 "cells": [
  {
   "cell_type": "code",
   "execution_count": 1,
   "metadata": {},
   "outputs": [
    {
     "name": "stdout",
     "output_type": "stream",
     "text": [
      "Current spark version is 2.4.4\n"
     ]
    }
   ],
   "source": [
    "println(s\"Current spark version is ${spark.version}\")"
   ]
  },
  {
   "cell_type": "code",
   "execution_count": 2,
   "metadata": {},
   "outputs": [
    {
     "name": "stdout",
     "output_type": "stream",
     "text": [
      "+-----+------+\n",
      "|label| count|\n",
      "+-----+------+\n",
      "|    1|800000|\n",
      "|    0|800000|\n",
      "+-----+------+\n",
      "\n"
     ]
    },
    {
     "data": {
      "text/plain": [
       "dataSchema = StructType(StructField(target,IntegerType,true), StructField(id,LongType,true), StructField(raw_timestamp,StringType,true), StructField(query_status,StringType,true), StructField(author,StringType,true), StructField(tweet,StringType,true))\n",
       "dataPath = /home/jovyan/data/training.1600000.processed.noemoticon.csv\n",
       "raw_sentiment = [label: int, tweet: string]\n"
      ]
     },
     "metadata": {},
     "output_type": "display_data",
     "source": "user"
    },
    {
     "data": {
      "text/plain": [
       "[label: int, tweet: string]"
      ]
     },
     "execution_count": 2,
     "metadata": {},
     "output_type": "execute_result"
    }
   ],
   "source": [
    "import org.apache.spark.sql.types.{StructType, StructField, IntegerType, LongType, StringType}\n",
    "\n",
    "val dataSchema = new StructType()\n",
    "    .add(\"target\", IntegerType)\n",
    "    .add(\"id\", LongType)\n",
    "    .add(\"raw_timestamp\", StringType)\n",
    "    .add(\"query_status\", StringType)\n",
    "    .add(\"author\", StringType)\n",
    "    .add(\"tweet\", StringType)\n",
    "\n",
    "val dataPath= \"/home/jovyan/data/training.1600000.processed.noemoticon.csv\"\n",
    "\n",
    "val raw_sentiment = spark.read\n",
    "    .format(\"csv\")\n",
    "    .option(\"header\",false)\n",
    "    .schema(dataSchema)\n",
    "    .load(dataPath)\n",
    "    .selectExpr(\"(case when target=4 then 1 else 0 end) as label\",\"tweet\")\n",
    "\n",
    "raw_sentiment.groupBy($\"label\").count.show"
   ]
  },
  {
   "cell_type": "code",
   "execution_count": 3,
   "metadata": {},
   "outputs": [
    {
     "name": "stdout",
     "output_type": "stream",
     "text": [
      "+-----+-------------------------------------------------------------------------------------------------------------------+\n",
      "|label|                                                                                                              tweet|\n",
      "+-----+-------------------------------------------------------------------------------------------------------------------+\n",
      "|    0|@switchfoot http://twitpic.com/2y1zl - Awww, that's a bummer.  You shoulda got David Carr of Third Day to do it. ;D|\n",
      "|    0|    is upset that he can't update his Facebook by texting it... and might cry as a result  School today also. Blah!|\n",
      "|    0|                          @Kenichan I dived many times for the ball. Managed to save 50%  The rest go out of bounds|\n",
      "|    0|                                                                    my whole body feels itchy and like its on fire |\n",
      "|    0|    @nationwideclass no, it's not behaving at all. i'm mad. why am i here? because I can't see you all over there. |\n",
      "+-----+-------------------------------------------------------------------------------------------------------------------+\n",
      "only showing top 5 rows\n",
      "\n",
      "+-----+-----------------------------------------------------------------------------------------------------------------------------------------+\n",
      "|label|                                                                                                                                    tweet|\n",
      "+-----+-----------------------------------------------------------------------------------------------------------------------------------------+\n",
      "|    1|                                                                                             I LOVE @Health4UandPets u guys r the best!! |\n",
      "|    1|                                                                 im meeting up with one of my besties tonight! Cant wait!!  - GIRL TALK!!|\n",
      "|    1|@DaRealSunisaKim Thanks for the Twitter add, Sunisa! I got to meet you once at a HIN show here in the DC area and you were a sweetheart. |\n",
      "|    1|                                 Being sick can be really cheap when it hurts too much to eat real food  Plus, your friends make you soup|\n",
      "|    1|                                                                                          @LovesBrooklyn2 he has that effect on everyone |\n",
      "+-----+-----------------------------------------------------------------------------------------------------------------------------------------+\n",
      "only showing top 5 rows\n",
      "\n"
     ]
    }
   ],
   "source": [
    "raw_sentiment.where(\"label=0\").show(5,150)\n",
    "raw_sentiment.where(\"label=1\").show(5,150)"
   ]
  },
  {
   "cell_type": "code",
   "execution_count": 4,
   "metadata": {},
   "outputs": [
    {
     "data": {
      "text/plain": [
       "tokenizer = tok_eb0229a7c02d\n",
       "hashingTF = hashingTF_6f10ecadbc01\n",
       "lr = logreg_5659102639a2\n",
       "pipeline = pipeline_ed46f45c9545\n"
      ]
     },
     "metadata": {},
     "output_type": "display_data",
     "source": "user"
    },
    {
     "data": {
      "text/plain": [
       "pipeline_ed46f45c9545"
      ]
     },
     "execution_count": 4,
     "metadata": {},
     "output_type": "execute_result"
    }
   ],
   "source": [
    "import org.apache.spark.ml.{Pipeline, PipelineModel}\n",
    "import org.apache.spark.ml.classification.LogisticRegression\n",
    "import org.apache.spark.ml.feature.{HashingTF, Tokenizer}\n",
    "import org.apache.spark.ml.linalg.Vector\n",
    "import org.apache.spark.sql.Row\n",
    "\n",
    "val tokenizer = new Tokenizer()\n",
    "    .setInputCol(\"tweet\")\n",
    "    .setOutputCol(\"words\")\n",
    "\n",
    "val hashingTF = new HashingTF()\n",
    "    .setNumFeatures(1000)\n",
    "    .setInputCol(tokenizer.getOutputCol)\n",
    "    .setOutputCol(\"features\")\n",
    "\n",
    "val lr = new LogisticRegression()\n",
    "    .setMaxIter(10)\n",
    "    .setRegParam(0.001)\n",
    "\n",
    "val pipeline = new Pipeline()\n",
    "  .setStages(Array(tokenizer, hashingTF, lr))"
   ]
  },
  {
   "cell_type": "code",
   "execution_count": 5,
   "metadata": {},
   "outputs": [
    {
     "data": {
      "text/plain": [
       "model = pipeline_ed46f45c9545\n"
      ]
     },
     "metadata": {},
     "output_type": "display_data",
     "source": "user"
    },
    {
     "data": {
      "text/plain": [
       "pipeline_ed46f45c9545"
      ]
     },
     "execution_count": 5,
     "metadata": {},
     "output_type": "execute_result"
    }
   ],
   "source": [
    "val model = pipeline.fit(raw_sentiment)"
   ]
  },
  {
   "cell_type": "code",
   "execution_count": 6,
   "metadata": {},
   "outputs": [
    {
     "data": {
      "text/plain": [
       "modelPath = /home/jovyan/models/spark-ml-model-lr\n"
      ]
     },
     "metadata": {},
     "output_type": "display_data",
     "source": "user"
    },
    {
     "data": {
      "text/plain": [
       "/home/jovyan/models/spark-ml-model-lr"
      ]
     },
     "execution_count": 6,
     "metadata": {},
     "output_type": "execute_result"
    }
   ],
   "source": [
    "val modelPath = \"/home/jovyan/models/spark-ml-model-lr\""
   ]
  },
  {
   "cell_type": "code",
   "execution_count": 7,
   "metadata": {},
   "outputs": [],
   "source": [
    "model.write.overwrite().save(modelPath)"
   ]
  },
  {
   "cell_type": "code",
   "execution_count": 8,
   "metadata": {},
   "outputs": [
    {
     "data": {
      "text/plain": [
       "sameModel = pipeline_ed46f45c9545\n"
      ]
     },
     "metadata": {},
     "output_type": "display_data",
     "source": "user"
    },
    {
     "data": {
      "text/plain": [
       "pipeline_ed46f45c9545"
      ]
     },
     "execution_count": 8,
     "metadata": {},
     "output_type": "execute_result"
    }
   ],
   "source": [
    "val sameModel = PipelineModel.load(modelPath)"
   ]
  },
  {
   "cell_type": "code",
   "execution_count": 16,
   "metadata": {
    "scrolled": true
   },
   "outputs": [
    {
     "name": "stdout",
     "output_type": "stream",
     "text": [
      "+-----+-----------------------------------+-----------------------------------+-----------------------------------+-----------------------------------+-----------------------------------+----------+\n",
      "|label|                              tweet|                              words|                           features|                      rawPrediction|                        probability|prediction|\n",
      "+-----+-----------------------------------+-----------------------------------+-----------------------------------+-----------------------------------+-----------------------------------+----------+\n",
      "|    0|                        Need a hug |                     [need, a, hug]|  (1000,[48,170,537],[1.0,1.0,1.0])|[0.09849092454166145,-0.09849092...|[0.5246028461018393,0.4753971538...|       0.0|\n",
      "|    0|nobody to talk to except twitter...|[nobody, to, talk, to, except, t...|(1000,[48,128,139,170,333,361,38...|[0.8606606348970633,-0.860660634...|[0.7027986614259267,0.2972013385...|       0.0|\n",
      "|    0|Need a hug and for my face ache ...|[need, a, hug, and, for, my, fac...|(1000,[34,36,48,69,170,329,333,3...|[1.5032852066426192,-1.503285206...|[0.8180639420098927,0.1819360579...|       0.0|\n",
      "|    0| @geekyspaz Aww  Need a hug? *hugs*|[@geekyspaz, aww, , need, a, hug...|(1000,[170,353,372,434,537,916,9...|[0.2916686181536591,-0.291668618...|[0.5724045891183136,0.4275954108...|       0.0|\n",
      "+-----+-----------------------------------+-----------------------------------+-----------------------------------+-----------------------------------+-----------------------------------+----------+\n",
      "\n"
     ]
    },
    {
     "data": {
      "text/plain": [
       "predictionsDF = [label: int, tweet: string ... 5 more fields]\n"
      ]
     },
     "metadata": {},
     "output_type": "display_data",
     "source": "user"
    },
    {
     "data": {
      "text/plain": [
       "[label: int, tweet: string ... 5 more fields]"
      ]
     },
     "execution_count": 16,
     "metadata": {},
     "output_type": "execute_result"
    }
   ],
   "source": [
    "val predictionsDF = sameModel.transform(raw_sentiment)\n",
    "\n",
    "predictionsDF.show(20,35)"
   ]
  },
  {
   "cell_type": "code",
   "execution_count": 19,
   "metadata": {},
   "outputs": [
    {
     "name": "stdout",
     "output_type": "stream",
     "text": [
      "+------------------------------------+-------------------------------------------------+------------------------------------------------------------------+\n",
      "|                               tweet|                                            words|                                                          features|\n",
      "+------------------------------------+-------------------------------------------------+------------------------------------------------------------------+\n",
      "|      this weekend has sucked so far|[, , , , , , this, weekend, has, sucked, so, far]|(1000,[368,372,373,580,690,702,786],[1.0,6.0,1.0,1.0,1.0,1.0,1.0])|\n",
      "+------------------------------------+-------------------------------------------------+------------------------------------------------------------------+\n",
      "\n"
     ]
    }
   ],
   "source": [
    "predictionsDF.where(\"tweet like '%this weekend has sucked so far%'\").select(\"tweet\", \"words\", \"features\").show(20,70)"
   ]
  },
  {
   "cell_type": "code",
   "execution_count": 21,
   "metadata": {},
   "outputs": [
    {
     "name": "stdout",
     "output_type": "stream",
     "text": [
      "+----------+-----+----------------------------------------+----------------------------------------+----------------------------------------+\n",
      "|prediction|label|                                   tweet|                                   words|                                features|\n",
      "+----------+-----+----------------------------------------+----------------------------------------+----------------------------------------+\n",
      "|       1.0|    0|@switchfoot http://twitpic.com/2y1zl ...|[@switchfoot, http://twitpic.com/2y1z...|(1000,[7,14,21,54,91,170,220,246,311,...|\n",
      "|       0.0|    0|is upset that he can't update his Fac...|[is, upset, that, he, can't, update, ...|(1000,[170,193,223,248,281,333,343,37...|\n",
      "|       0.0|    0|@Kenichan I dived many times for the ...|[@kenichan, i, dived, many, times, fo...|(1000,[10,36,77,188,207,248,329,338,3...|\n",
      "|       0.0|    0|my whole body feels itchy and like it...|[my, whole, body, feels, itchy, and, ...|(1000,[82,191,296,330,333,648,841,903...|\n",
      "|       0.0|    0|@nationwideclass no, it's not behavin...|[@nationwideclass, no,, it's, not, be...|(1000,[18,96,130,173,248,329,352,380,...|\n",
      "|       0.0|    0|           @Kwesidei not the whole crew |      [@kwesidei, not, the, whole, crew]|(1000,[18,223,710,758,903],[1.0,1.0,1...|\n",
      "|       0.0|    0|                             Need a hug |                          [need, a, hug]|       (1000,[48,170,537],[1.0,1.0,1.0])|\n",
      "|       1.0|    0|@LOLTrish hey  long time no see! Yes....|[@loltrish, hey, , long, time, no, se...|(1000,[139,157,170,230,253,346,372,38...|\n",
      "|       0.0|    0|    @Tatiana_K nope they didn't have it |[@tatiana_k, nope, they, didn't, have...|(1000,[48,234,299,432,495,748],[1.0,1...|\n",
      "|       1.0|    0|               @twittera que me muera ? |          [@twittera, que, me, muera, ?]|(1000,[161,324,471,490,976],[1.0,1.0,...|\n",
      "|       1.0|    1|I LOVE @Health4UandPets u guys r the ...|[i, love, @health4uandpets, u, guys, ...|(1000,[216,240,329,401,526,570,681,71...|\n",
      "|       0.0|    1|im meeting up with one of my besties ...|[im, meeting, up, with, one, of, my, ...|(1000,[26,29,44,86,120,128,238,343,37...|\n",
      "|       1.0|    1|@DaRealSunisaKim Thanks for the Twitt...|[@darealsunisakim, thanks, for, the, ...|(1000,[7,19,36,135,147,170,184,230,32...|\n",
      "|       0.0|    1|Being sick can be really cheap when i...|[being, sick, can, be, really, cheap,...|(1000,[76,196,263,310,372,374,388,425...|\n",
      "|       1.0|    1|@LovesBrooklyn2 he has that effect on...|[@lovesbrooklyn2, he, has, that, effe...|(1000,[36,82,580,760,793,893,997],[1....|\n",
      "|       1.0|    1|@ProductOfFear You can tell him that ...|[@productoffear, you, can, tell, him,...|(1000,[1,36,201,230,307,310,329,343,3...|\n",
      "|       1.0|    1|@r_keith_hill Thans for your response...|[@r_keith_hill, thans, for, your, res...|(1000,[36,56,57,188,263,340,373,467,5...|\n",
      "|       1.0|    1|@KeepinUpWKris I am so jealous, hope ...|[@keepinupwkris, i, am, so, jealous,,...|(1000,[0,157,170,173,237,240,260,263,...|\n",
      "|       1.0|    1|@tommcfly ah, congrats mr fletcher fo...|[@tommcfly, ah,, congrats, mr, fletch...|(1000,[36,272,318,574,602,622,711,791...|\n",
      "|       0.0|    1|@e4VoIP I RESPONDED  Stupid cat is he...|[@e4voip, i, responded, , stupid, cat...|(1000,[121,281,329,372,389,412,456,47...|\n",
      "+----------+-----+----------------------------------------+----------------------------------------+----------------------------------------+\n",
      "\n"
     ]
    },
    {
     "data": {
      "text/plain": [
       "lastException: Throwable = null\n"
      ]
     },
     "metadata": {},
     "output_type": "display_data",
     "source": "user"
    }
   ],
   "source": [
    "predictionsDF.where(\"label=0\").limit(10).union(predictionsDF.where(\"label=1\").limit(10)).select(\"prediction\", \"label\", \"tweet\", \"words\", \"features\").show(20,40)"
   ]
  },
  {
   "cell_type": "code",
   "execution_count": 10,
   "metadata": {},
   "outputs": [],
   "source": [
    "predictionsDF.where(\"label=0\").limit(15).union(predictionsDF.where(\"label=1\").limit(15))\n",
    "   .selectExpr(\n",
    "       \"label\",\"tweet\",\"cast (words as string)\",\"cast (features as string)\",\"cast (rawPrediction as string)\",\"cast (probability as string)\",\"prediction\"\n",
    "   )\n",
    "   .coalesce(1)\n",
    "   .write.format(\"csv\")\n",
    "   .mode(\"overwrite\")\n",
    "   .option(\"header\", \"true\")\n",
    "   .save(\"/home/jovyan/work/predictionsDF.csv\")"
   ]
  },
  {
   "cell_type": "code",
   "execution_count": 11,
   "metadata": {},
   "outputs": [
    {
     "name": "stdout",
     "output_type": "stream",
     "text": [
      "+---------------------+-----+\n",
      "|clean_probability_0_1|label|\n",
      "+---------------------+-----+\n",
      "|          0.29 / 0.71|    0|\n",
      "|          0.86 / 0.14|    0|\n",
      "|          0.83 / 0.17|    0|\n",
      "|          0.56 / 0.44|    0|\n",
      "|          0.96 / 0.04|    0|\n",
      "|          0.58 / 0.42|    0|\n",
      "|          0.52 / 0.48|    0|\n",
      "|          0.09 / 0.91|    0|\n",
      "|          0.70 / 0.30|    0|\n",
      "|          0.47 / 0.53|    0|\n",
      "|          0.19 / 0.81|    1|\n",
      "|          0.69 / 0.31|    1|\n",
      "|          0.12 / 0.88|    1|\n",
      "|          0.88 / 0.12|    1|\n",
      "|          0.48 / 0.52|    1|\n",
      "|          0.22 / 0.78|    1|\n",
      "|          0.42 / 0.58|    1|\n",
      "|          0.06 / 0.94|    1|\n",
      "|          0.16 / 0.84|    1|\n",
      "|          0.54 / 0.46|    1|\n",
      "+---------------------+-----+\n",
      "\n"
     ]
    },
    {
     "data": {
      "text/plain": [
       "getProbability = UserDefinedFunction(<function1>,StringType,Some(List(org.apache.spark.ml.linalg.VectorUDT@3bfc3ba7)))\n"
      ]
     },
     "metadata": {},
     "output_type": "display_data",
     "source": "user"
    },
    {
     "data": {
      "text/plain": [
       "UserDefinedFunction(<function1>,StringType,Some(List(org.apache.spark.ml.linalg.VectorUDT@3bfc3ba7)))"
      ]
     },
     "execution_count": 11,
     "metadata": {},
     "output_type": "execute_result"
    }
   ],
   "source": [
    "import org.apache.spark.sql.functions._\n",
    "\n",
    "val getProbability =\n",
    "    udf(\n",
    "        (prediction: org.apache.spark.ml.linalg.Vector) =>\n",
    "        {\n",
    "            BigDecimal(prediction(0)).setScale(2, BigDecimal.RoundingMode.HALF_UP)+\n",
    "            \" / \"+\n",
    "            BigDecimal(prediction(1)).setScale(2, BigDecimal.RoundingMode.HALF_UP)\n",
    "        }\n",
    "    )\n",
    "\n",
    "predictionsDF.where(\"label=0\").limit(10).union(predictionsDF.where(\"label=1\").limit(10))\n",
    "    .select(getProbability($\"probability\").alias(\"clean_probability_0_1\"),$\"label\").show(20,100)"
   ]
  },
  {
   "cell_type": "markdown",
   "metadata": {},
   "source": [
    "# Time 1:24:00"
   ]
  },
  {
   "cell_type": "code",
   "execution_count": null,
   "metadata": {},
   "outputs": [],
   "source": []
  }
 ],
 "metadata": {
  "kernelspec": {
   "display_name": "Apache Toree - Scala",
   "language": "scala",
   "name": "apache_toree_scala"
  },
  "language_info": {
   "codemirror_mode": "text/x-scala",
   "file_extension": ".scala",
   "mimetype": "text/x-scala",
   "name": "scala",
   "pygments_lexer": "scala",
   "version": "2.11.12"
  }
 },
 "nbformat": 4,
 "nbformat_minor": 4
}
