{
 "cells": [
  {
   "cell_type": "code",
   "execution_count": null,
   "metadata": {},
   "outputs": [],
   "source": [
    "println(s\"Current spark version is ${spark.version}\")"
   ]
  },
  {
   "cell_type": "code",
   "execution_count": null,
   "metadata": {},
   "outputs": [],
   "source": [
    "import org.apache.spark.sql.types.{StructType, StructField, IntegerType, LongType, StringType}\n",
    "\n",
    "val dataSchema = new StructType()\n",
    "    .add(\"target\", IntegerType)\n",
    "    .add(\"id\", LongType)\n",
    "    .add(\"raw_timestamp\", StringType)\n",
    "    .add(\"query_status\", StringType)\n",
    "    .add(\"author\", StringType)\n",
    "    .add(\"tweet\", StringType)\n",
    "\n",
    "    \n",
    "val dataPath= \"/home/jovyan/data/training.1600000.processed.noemoticon.csv\"\n",
    "\n",
    "val raw_sentiment = spark.read\n",
    "    .format(\"csv\")\n",
    "    .option(\"header\",false)\n",
    "    .schema(dataSchema)\n",
    "    .load(dataPath)\n",
    "    .selectExpr(\n",
    "        \"tweet\",\n",
    "        \"(case when target=4 then 1 else 0 end) as hiddentargetclue\",\n",
    "        \"current_timestamp||' - '||lpad((row_number() over (order  by null)),5,'0') as arrived_key\"\n",
    "    )\n",
    "\n",
    "println(s\"Total tweets in file: ${raw_sentiment.count}\")"
   ]
  },
  {
   "cell_type": "code",
   "execution_count": null,
   "metadata": {},
   "outputs": [],
   "source": [
    "raw_sentiment.selectExpr(\"max(arrived_key) as arr\").show(1,100)\n",
    "println(\"\\033c\")\n",
    "raw_sentiment.selectExpr(\"max(arrived_key) as arr\").show(1,100)"
   ]
  },
  {
   "cell_type": "code",
   "execution_count": null,
   "metadata": {},
   "outputs": [],
   "source": [
    "import java.util.{Calendar, Timer, TimerTask}\n",
    "\n",
    "val outputStreamPath = \"/home/jovyan/work/events-stream\"\n",
    "var writeMode = \"overwrite\" // first - overwrite for initialy empty dest dir\n",
    "\n",
    "var fRuns: Long = 0\n",
    "var fTweets: Long = 0\n",
    "\n",
    "val timer = new Timer()\n",
    "\n",
    "val task = new TimerTask {\n",
    "  def run(): Unit = {\n",
    "      val data = raw_sentiment.sample(fraction=0.00001,withReplacement=true)\n",
    "      data.coalesce(1).write.format(\"json\").mode(writeMode).save(outputStreamPath)\n",
    "      writeMode = \"append\" // next - append\n",
    "      fRuns += 1\n",
    "      fTweets += data.count()\n",
    "      print(s\"${Calendar.getInstance().toInstant} - saved to the events stream $fTweets tweets $fRuns times\"+13.toChar)\n",
    "  } \n",
    "}\n",
    "\n",
    "println(\"Streaming started!\")\n",
    "\n",
    "timer.schedule(task, 100L, 100L)"
   ]
  },
  {
   "cell_type": "code",
   "execution_count": null,
   "metadata": {},
   "outputs": [],
   "source": [
    "task.cancel()\n",
    "println(\"Streaming stopped!\")"
   ]
  },
  {
   "cell_type": "code",
   "execution_count": null,
   "metadata": {},
   "outputs": [],
   "source": [
    "java.time.LocalDateTime.now"
   ]
  },
  {
   "cell_type": "code",
   "execution_count": null,
   "metadata": {},
   "outputs": [],
   "source": []
  }
 ],
 "metadata": {
  "kernelspec": {
   "display_name": "Apache Toree - Scala",
   "language": "scala",
   "name": "apache_toree_scala"
  },
  "language_info": {
   "codemirror_mode": "text/x-scala",
   "file_extension": ".scala",
   "mimetype": "text/x-scala",
   "name": "scala",
   "pygments_lexer": "scala",
   "version": "2.11.12"
  }
 },
 "nbformat": 4,
 "nbformat_minor": 4
}
