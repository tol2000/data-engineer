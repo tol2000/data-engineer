{
 "cells": [
  {
   "cell_type": "markdown",
   "metadata": {},
   "source": [
    "# Прием и обработка твитов микробатчем"
   ]
  },
  {
   "cell_type": "markdown",
   "metadata": {},
   "source": [
    "## Инициализация"
   ]
  },
  {
   "cell_type": "code",
   "execution_count": null,
   "metadata": {},
   "outputs": [],
   "source": [
    "import org.apache.spark.sql.types.{StructType, StringType, IntegerType, TimestampType}\n",
    "import org.apache.spark.ml.{Pipeline, PipelineModel}\n",
    "import org.apache.spark.sql.functions._\n",
    "import org.apache.spark.sql.DataFrame\n",
    "import org.apache.spark.sql.Row\n",
    "import org.apache.toree.kernel.api\n",
    "import java.util.Calendar"
   ]
  },
  {
   "cell_type": "code",
   "execution_count": null,
   "metadata": {},
   "outputs": [],
   "source": [
    "println(s\"Current spark version is ${spark.version}\")"
   ]
  },
  {
   "cell_type": "markdown",
   "metadata": {},
   "source": [
    "## Чтение модели"
   ]
  },
  {
   "cell_type": "code",
   "execution_count": null,
   "metadata": {},
   "outputs": [],
   "source": [
    "val modelPath = \"/home/jovyan/models/spark-ml-model\"\n",
    "val model = PipelineModel.load(modelPath)"
   ]
  },
  {
   "cell_type": "markdown",
   "metadata": {},
   "source": [
    "## Определяем схему и инициируем потоковый датафрейм"
   ]
  },
  {
   "cell_type": "code",
   "execution_count": null,
   "metadata": {},
   "outputs": [],
   "source": [
    "val inputStreamPath = \"/home/jovyan/work/events-stream\"\n",
    "//val outputStreamPath = \"/home/jovyan/work/events-stream-out\"\n",
    "\n",
    "// Определяем udf для получения probability по 0 и 1\n",
    "val getProbability =\n",
    "    udf(\n",
    "        (prediction: org.apache.spark.ml.linalg.Vector, pos: Integer) =>\n",
    "        {\n",
    "            prediction(pos)\n",
    "        }\n",
    "    )\n",
    "\n",
    "val dataSchema = new StructType()\n",
    "    .add(\"tweet\", StringType)\n",
    "    .add(\"hiddentargetclue\", IntegerType)\n",
    "    .add(\"timestamp\", TimestampType)"
   ]
  },
  {
   "cell_type": "code",
   "execution_count": null,
   "metadata": {},
   "outputs": [],
   "source": [
    "/*\n",
    "                    .select(\n",
    "                        $\"arrived_key\",\n",
    "                        $\"tweet\",\n",
    "                        // $\"hiddentargetclue\",\n",
    "                        (getProbability($\"probability\",lit(0))).alias(\"Negative Probability\")\n",
    "                    )\n",
    "*/\n",
    "\n",
    "/*\n",
    "                model.transform(batchDF)\n",
    "                    .select(\n",
    "                        $\"timestamp\",\n",
    "                        $\"tweets\"\n",
    "                    )\n",
    "*/\n",
    "\n",
    "val inputDF = spark\n",
    "    .readStream\n",
    "    .schema(dataSchema)\n",
    "//    .option(\"maxFilesPerTrigger\", 1)\n",
    "    .json(inputStreamPath)\n",
    "    .withWatermark(\"timestamp\", \"15 seconds\")\n",
    "    .groupBy(\n",
    "        window($\"timestamp\", \"10 seconds\", \"5 seconds\").alias(\"timestamp\")\n",
    "    )\n",
    "    .count()\n",
    "    //.agg(count(\"*\")).alias(\"tweets\")\n",
    "\n",
    "//val wStream = inputDF.writeStream\n",
    "//    .option(\"checkpointLocation\", outputStreamPath)\n",
    "//.start(outputStreamPath)"
   ]
  },
  {
   "cell_type": "code",
   "execution_count": null,
   "metadata": {},
   "outputs": [],
   "source": []
  },
  {
   "cell_type": "markdown",
   "metadata": {},
   "source": [
    "## Микробатч приема твитов"
   ]
  },
  {
   "cell_type": "code",
   "execution_count": null,
   "metadata": {
    "scrolled": true
   },
   "outputs": [],
   "source": [
    "var fRuns = 0\n",
    "var fTweets:Long = 0\n",
    "\n",
    "// Микробатч для вывода результата предсказания\n",
    "// Выводится вероятность негативного твита\n",
    "// В задании написано, что это последняя колонка, но она здесь вроде первая (в позиции 0)\n",
    "val stream = inputDF.writeStream.foreachBatch {\n",
    "    (batchDF: DataFrame, batchId: Long) => {\n",
    "        try {\n",
    "            fRuns += 1\n",
    "            //batchDF.foreach {\n",
    "            //    row:Row => {\n",
    "            //        fTweets += 1\n",
    "            //        //row.getAs(\"tweets\")\n",
    "            //    }\n",
    "            //}\n",
    "            batchDF.show()\n",
    "            //print(s\"${Calendar.getInstance().toInstant} - loaded $fTweets rows from the events stream $fRuns times\"+13.toChar)\n",
    "            // Применяем модель и получаем соотв. датасет с предсказаниями\n",
    "//            globDF = \n",
    "//                model.transform(batchDF)\n",
    "//                    .select(\n",
    "//                        $\"timestamp\",\n",
    "//                        $\"tweets\"\n",
    "//                    )\n",
    "            \n",
    "        } catch {\n",
    "            case e:Throwable => {\n",
    "                println(e.getMessage)\n",
    "            }\n",
    "        }\n",
    "    }\n",
    "}.start()"
   ]
  },
  {
   "cell_type": "markdown",
   "metadata": {},
   "source": [
    "## Останов чтения потока"
   ]
  },
  {
   "cell_type": "code",
   "execution_count": null,
   "metadata": {},
   "outputs": [],
   "source": [
    "stream.stop()"
   ]
  },
  {
   "cell_type": "code",
   "execution_count": null,
   "metadata": {},
   "outputs": [],
   "source": []
  }
 ],
 "metadata": {
  "kernelspec": {
   "display_name": "Apache Toree - Scala",
   "language": "scala",
   "name": "apache_toree_scala"
  },
  "language_info": {
   "codemirror_mode": "text/x-scala",
   "file_extension": ".scala",
   "mimetype": "text/x-scala",
   "name": "scala",
   "pygments_lexer": "scala",
   "version": "2.11.12"
  }
 },
 "nbformat": 4,
 "nbformat_minor": 4
}
