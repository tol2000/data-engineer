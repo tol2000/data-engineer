{
 "cells": [
  {
   "cell_type": "code",
<<<<<<< HEAD
   "execution_count": 1,
=======
   "execution_count": 2,
>>>>>>> 12337f13ed7eebdfe914bbe073d603d8b6d91527
   "metadata": {},
   "outputs": [
    {
     "name": "stdout",
     "output_type": "stream",
     "text": [
<<<<<<< HEAD
      "Insert time by id:  0.013256072998046875\n",
      "Select time by id:  0.005900859832763672\n"
     ]
    },
    {
     "ename": "NameError",
     "evalue": "name 'maxloops' is not defined",
     "output_type": "error",
     "traceback": [
      "\u001b[0;31m---------------------------------------------------------------------------\u001b[0m",
      "\u001b[0;31mNameError\u001b[0m                                 Traceback (most recent call last)",
      "\u001b[0;32m<ipython-input-1-0d508a522265>\u001b[0m in \u001b[0;36m<module>\u001b[0;34m\u001b[0m\n\u001b[1;32m     36\u001b[0m \u001b[0;34m\u001b[0m\u001b[0m\n\u001b[1;32m     37\u001b[0m \u001b[0mstartTime\u001b[0m \u001b[0;34m=\u001b[0m \u001b[0mtime\u001b[0m\u001b[0;34m.\u001b[0m\u001b[0mtime\u001b[0m\u001b[0;34m(\u001b[0m\u001b[0;34m)\u001b[0m\u001b[0;34m\u001b[0m\u001b[0;34m\u001b[0m\u001b[0m\n\u001b[0;32m---> 38\u001b[0;31m \u001b[0;32mfor\u001b[0m \u001b[0mi\u001b[0m \u001b[0;32min\u001b[0m \u001b[0mrange\u001b[0m\u001b[0;34m(\u001b[0m\u001b[0;36m0\u001b[0m\u001b[0;34m,\u001b[0m\u001b[0mmaxloops\u001b[0m\u001b[0;34m)\u001b[0m\u001b[0;34m:\u001b[0m\u001b[0;34m\u001b[0m\u001b[0;34m\u001b[0m\u001b[0m\n\u001b[0m\u001b[1;32m     39\u001b[0m     \u001b[0;32massert\u001b[0m \u001b[0;34m(\u001b[0m\u001b[0mi\u001b[0m \u001b[0;34m+\u001b[0m \u001b[0;36m1\u001b[0m \u001b[0;34m==\u001b[0m \u001b[0mget_ltv_by_phone\u001b[0m\u001b[0;34m(\u001b[0m\u001b[0mi\u001b[0m\u001b[0;34m)\u001b[0m\u001b[0;34m)\u001b[0m\u001b[0;34m,\u001b[0m \u001b[0;34m\"No LTV by phone \"\u001b[0m \u001b[0;34m+\u001b[0m \u001b[0mstr\u001b[0m\u001b[0;34m(\u001b[0m\u001b[0mi\u001b[0m\u001b[0;34m)\u001b[0m\u001b[0;34m\u001b[0m\u001b[0;34m\u001b[0m\u001b[0m\n\u001b[1;32m     40\u001b[0m \u001b[0mprint\u001b[0m\u001b[0;34m(\u001b[0m\u001b[0;34m\"Select time by phone: \"\u001b[0m\u001b[0;34m,\u001b[0m \u001b[0;34m(\u001b[0m\u001b[0mtime\u001b[0m\u001b[0;34m.\u001b[0m\u001b[0mtime\u001b[0m\u001b[0;34m(\u001b[0m\u001b[0;34m)\u001b[0m\u001b[0;34m-\u001b[0m\u001b[0mstartTime\u001b[0m\u001b[0;34m)\u001b[0m\u001b[0;34m)\u001b[0m\u001b[0;34m\u001b[0m\u001b[0;34m\u001b[0m\u001b[0m\n",
      "\u001b[0;31mNameError\u001b[0m: name 'maxloops' is not defined"
=======
      "Insert time by id:  0.013904094696044922\n",
      "Select time by id:  0.01193094253540039\n",
      "Select time by phone:  3.397122859954834\n",
      "All is OK! :)\n"
>>>>>>> 12337f13ed7eebdfe914bbe073d603d8b6d91527
     ]
    }
   ],
   "source": [
    "import logging\n",
    "import time\n",
    "\n",
    "logging.getLogger().setLevel(logging.WARNING)\n",
    "\n",
    "maxLoops = 10000\n",
    "\n",
    "store = {}\n",
    "\n",
    "def add_customer(customer_id, phone_number, lifetime_value):\n",
    "    store[customer_id] = {'phone': phone_number, 'ltv': lifetime_value}\n",
    "\n",
    "def get_ltv_by_id(customer_id):\n",
    "    item = store.get(customer_id, {})\n",
    "    if (item == {}):\n",
    "        logging.error('Requested non-existent customer ' + str(customer_id))\n",
    "    else:\n",
    "        return item.get('ltv')\n",
    "\n",
    "def get_ltv_by_phone(phone_number):\n",
    "    for v in store.values():\n",
    "        if (v['phone'] == phone_number):\n",
    "            return v['ltv']\n",
    "    logging.error('Requested phone number is not found ' + str(phone_number))\n",
    "\n",
    "startTime = time.time()\n",
    "for i in range(0,maxLoops):\n",
    "    if i != -5121:\n",
    "        add_customer(i,i,i + 1)\n",
    "print(\"Insert time by id: \", (time.time()-startTime))\n",
    "        \n",
    "startTime = time.time()\n",
    "for i in range(0,maxLoops):\n",
    "    assert (i + 1 == get_ltv_by_id(i)), \"No LTV by ID \" + str(i)\n",
    "print(\"Select time by id: \", (time.time()-startTime))\n",
    "\n",
    "startTime = time.time()\n",
    "for i in range(0,maxLoops):\n",
    "    assert (i + 1 == get_ltv_by_phone(i)), \"No LTV by phone \" + str(i)\n",
    "print(\"Select time by phone: \", (time.time()-startTime))\n",
    "\n",
    "print(\"All is OK! :)\")\n"
   ]
  },
  {
   "cell_type": "code",
   "execution_count": null,
   "metadata": {},
   "outputs": [],
   "source": []
  }
 ],
 "metadata": {
  "kernelspec": {
   "display_name": "Python 3",
   "language": "python",
   "name": "python3"
  },
  "language_info": {
   "codemirror_mode": {
    "name": "ipython",
    "version": 3
   },
   "file_extension": ".py",
   "mimetype": "text/x-python",
   "name": "python",
   "nbconvert_exporter": "python",
   "pygments_lexer": "ipython3",
   "version": "3.7.6"
  }
 },
 "nbformat": 4,
 "nbformat_minor": 4
}
