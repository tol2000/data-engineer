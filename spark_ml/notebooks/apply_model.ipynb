{
 "cells": [
  {
   "cell_type": "markdown",
   "metadata": {},
   "source": [
    "# Прием и обработка твитов.\n",
    "# Начальная проба пера\n",
    "# Окончательная версия со скользящим окном в файле apply_model_window"
   ]
  },
  {
   "cell_type": "markdown",
   "metadata": {},
   "source": [
    "## Инициализация"
   ]
  },
  {
   "cell_type": "code",
   "execution_count": 1,
   "metadata": {},
   "outputs": [],
   "source": [
    "import org.apache.spark.sql.types.{StructType, StringType, IntegerType, TimestampType}\n",
    "import org.apache.spark.ml.{Pipeline, PipelineModel}\n",
    "import org.apache.spark.sql.functions._\n",
    "import org.apache.spark.sql.DataFrame\n",
    "import org.apache.toree.kernel.api\n",
    "import java.util.Calendar"
   ]
  },
  {
   "cell_type": "code",
   "execution_count": 2,
   "metadata": {},
   "outputs": [
    {
     "name": "stdout",
     "output_type": "stream",
     "text": [
      "Current spark version is 2.4.4\n"
     ]
    }
   ],
   "source": [
    "println(s\"Current spark version is ${spark.version}\")"
   ]
  },
  {
   "cell_type": "markdown",
   "metadata": {},
   "source": [
    "## Чтение модели"
   ]
  },
  {
   "cell_type": "code",
   "execution_count": 3,
   "metadata": {},
   "outputs": [
    {
     "data": {
      "text/plain": [
       "modelPath = /home/jovyan/models/spark-ml-model\n",
       "model = pipeline_6cb85880407d\n"
      ]
     },
     "metadata": {},
     "output_type": "display_data",
     "source": "user"
    },
    {
     "data": {
      "text/plain": [
       "pipeline_6cb85880407d"
      ]
     },
     "execution_count": 3,
     "metadata": {},
     "output_type": "execute_result"
    }
   ],
   "source": [
    "val modelPath = \"/home/jovyan/models/spark-ml-model\"\n",
    "val model = PipelineModel.load(modelPath)"
   ]
  },
  {
   "cell_type": "markdown",
   "metadata": {},
   "source": [
    "## Определяем схему и инициируем потоковый датасет"
   ]
  },
  {
   "cell_type": "code",
   "execution_count": 4,
   "metadata": {},
   "outputs": [
    {
     "data": {
      "text/plain": [
       "inputStreamPath = /home/jovyan/work/events-stream\n",
       "modelPath = /home/jovyan/models/spark-ml-model\n",
       "dataSchema = StructType(StructField(tweet,StringType,true), StructField(hiddentargetclue,IntegerType,true), StructField(timestamp,TimestampType,true))\n",
       "inputDF = [tweet: string, hiddentargetclue: int ... 1 more field]\n"
      ]
     },
     "metadata": {},
     "output_type": "display_data",
     "source": "user"
    },
    {
     "data": {
      "text/plain": [
       "[tweet: string, hiddentargetclue: int ... 1 more field]"
      ]
     },
     "execution_count": 4,
     "metadata": {},
     "output_type": "execute_result"
    }
   ],
   "source": [
    "val inputStreamPath = \"/home/jovyan/work/events-stream\"\n",
    "val modelPath = \"/home/jovyan/models/spark-ml-model\"\n",
    "\n",
    "val dataSchema = new StructType()\n",
    "    .add(\"tweet\", StringType)\n",
    "    .add(\"hiddentargetclue\", IntegerType)\n",
    "    .add(\"timestamp\", TimestampType)\n",
    "\n",
    "val inputDF = spark\n",
    "    .readStream\n",
    "    .schema(dataSchema)\n",
    "    .option(\"maxFilesPerTrigger\", 1)\n",
    "    .json(inputStreamPath)"
   ]
  },
  {
   "cell_type": "markdown",
   "metadata": {},
   "source": [
    "## Глобальная переменная для удобства просмотра датасета в отдельной ячейке"
   ]
  },
  {
   "cell_type": "code",
   "execution_count": 5,
   "metadata": {},
   "outputs": [
    {
     "data": {
      "text/plain": [
       "globDF: org.apache.spark.sql.DataFrame = null\n"
      ]
     },
     "metadata": {},
     "output_type": "display_data",
     "source": "user"
    }
   ],
   "source": [
    "var globDF:DataFrame = null"
   ]
  },
  {
   "cell_type": "markdown",
   "metadata": {},
   "source": [
    "## Внимание!\n",
    "- К сожалению, я не нашел внятной доки по апи ядра toree, чтобы нормально выводить оперативно изменяющийся датасет в этом ноутбуке\n",
    "- В связи с этим см. след. пункт\n",
    "- В блоке приема твитов ниже вывод датасета для удобства просмотра осуществляется через глобальную переменную globDF, которая просматривается при помощи выполнения блока, следующего за приемом твитов"
   ]
  },
  {
   "cell_type": "markdown",
   "metadata": {},
   "source": [
    "## Микробатч приема твитов"
   ]
  },
  {
   "cell_type": "code",
   "execution_count": 6,
   "metadata": {
    "scrolled": true
   },
   "outputs": [
    {
     "name": "stdout",
     "output_type": "stream",
     "text": [
      "2020-01-29T15:31:12.099Z - loaded from the events stream 3 times\r"
     ]
    },
    {
     "data": {
      "text/plain": [
       "getProbability = UserDefinedFunction(<function2>,DoubleType,Some(List(org.apache.spark.ml.linalg.VectorUDT@3bfc3ba7, IntegerType)))\n",
       "fRuns = 0\n",
       "stream = org.apache.spark.sql.execution.streaming.StreamingQueryWrapper@6e24fb48\n"
      ]
     },
     "metadata": {},
     "output_type": "display_data",
     "source": "user"
    },
    {
     "data": {
      "text/plain": [
       "org.apache.spark.sql.execution.streaming.StreamingQueryWrapper@6e24fb48"
      ]
     },
     "execution_count": 6,
     "metadata": {},
     "output_type": "execute_result"
    },
    {
     "name": "stdout",
     "output_type": "stream",
     "text": [
      "2020-01-29T15:31:50.284Z - loaded from the events stream 13 times\r"
     ]
    }
   ],
   "source": [
    "// Определяем udf для получения probability по 0 и 1\n",
    "val getProbability =\n",
    "    udf(\n",
    "        (prediction: org.apache.spark.ml.linalg.Vector, pos: Integer) =>\n",
    "        {\n",
    "            prediction(pos)\n",
    "        }\n",
    "    )\n",
    "\n",
    "var fRuns = 0\n",
    "\n",
    "// Микробатч для вывода результата предсказания\n",
    "// Выводится вероятность негативного твита\n",
    "// В задании написано, что это последняя колонка, но она здесь вроде первая (в позиции 0)\n",
    "val stream = inputDF.writeStream.foreachBatch {\n",
    "    (batchDF: DataFrame, batchId: Long) => {\n",
    "        try {\n",
    "            fRuns += 1\n",
    "            print(s\"${Calendar.getInstance().toInstant} - loaded from the events stream $fRuns times\"+13.toChar)\n",
    "            // Применяем модель и получаем соотв. датасет с предсказаниями\n",
    "            globDF = \n",
    "                model.transform(batchDF)\n",
    "                    .select(\n",
    "                        $\"timestamp\",\n",
    "                        $\"tweet\",\n",
    "                        // $\"hiddentargetclue\",\n",
    "                        (getProbability($\"probability\",lit(0))).alias(\"Negative Probability\")\n",
    "                    )\n",
    "        } catch {\n",
    "            case e:Throwable => {\n",
    "                print(e.getMessage.replaceAll(\"\\n\",\" \"))\n",
    "                print(13.toChar)\n",
    "            }\n",
    "        }\n",
    "    }\n",
    "}.start()"
   ]
  },
  {
   "cell_type": "markdown",
   "metadata": {},
   "source": [
    "## Блок просмотра результата\n",
    "- Этот блок предназначен для просмотра результата потоковой обработки твитов и применения модели из предыдущего блока\n",
    "- Каждый раз при выполнении этого блока будет выводиться оперативное состояние датасета из блока выше"
   ]
  },
  {
   "cell_type": "code",
   "execution_count": 9,
   "metadata": {},
   "outputs": [
    {
     "data": {
      "text/html": [
       "<table><tr><th>timestamp</th><th>tweet</th><th>Negative Probability</th></tr><tr><td>2020-01-29 17:31:23.655</td><td>@insertcotku I have no clothes </td><td>0.5302611691895585</td></tr><tr><td>2020-01-29 17:31:23.655</td><td>@nick_crazys is it so wrong??.. </td><td>0.5032726251067058</td></tr><tr><td>2020-01-29 17:31:23.655</td><td>thinking my cold turned into a sinus infection, my teeth are hurting and I am so exhausted. I can feel it all thru my sinuses </td><td>0.5760119138808307</td></tr><tr><td>2020-01-29 17:31:23.655</td><td>Can't find a literary agent for my book </td><td>0.5673572374378179</td></tr><tr><td>2020-01-29 17:31:23.655</td><td>herman has given up on my late night antics and is now sleeping with my early to bed roomy.  at least I have kitty-fat mischa to cuddle.</td><td>0.5426540290651356</td></tr><tr><td>2020-01-29 17:31:23.655</td><td>poopy we arent going to the 4 floors mall </td><td>0.4884236449783609</td></tr><tr><td>2020-01-29 17:31:23.655</td><td>bleh... wishin' it was the weekend </td><td>0.4884236449783609</td></tr><tr><td>2020-01-29 17:31:23.655</td><td>@RayOnativia Oh I know! I love basically anything and everything.  I never really have any favorite bands because my mood is what bases it</td><td>0.5063001492163618</td></tr><tr><td>2020-01-29 17:31:23.655</td><td>Wow what a fun night! Epic birthday party! Thanks to everyone who came... Hope u had as much fun as i did haha </td><td>0.43169833817072273</td></tr><tr><td>2020-01-29 17:31:23.655</td><td>@jacqueline47 as long as you're not going to melt LOL. Hubby has an umbrella set up to keep him dry when he grills </td><td>0.4743131203329651</td></tr><tr><td>2020-01-29 17:31:23.655</td><td>&quot;even as a giant she's beautiful!&quot; - K2 </td><td>0.4763395599278006</td></tr><tr><td>2020-01-29 17:31:23.655</td><td>Did you use your Sunday to recover &amp; recharge or were you checking email and worrying abt the week ahead? Just something to think about </td><td>0.5232871925529061</td></tr><tr><td>2020-01-29 17:31:23.655</td><td>Retweet @cheth Share a bunch of links with one URL: http://www.multiurl.com/ *USEFUL* &lt;Now THAT's a useful thing, oh yeah </td><td>0.5212186908525401</td></tr></table>"
      ]
     },
     "execution_count": 9,
     "metadata": {},
     "output_type": "execute_result"
    }
   ],
   "source": [
    "%%dataframe --limit=100\n",
    "globDF"
   ]
  },
  {
   "cell_type": "markdown",
   "metadata": {},
   "source": [
    "## Останов чтения потока"
   ]
  },
  {
   "cell_type": "code",
   "execution_count": 10,
   "metadata": {},
   "outputs": [
    {
     "data": {
      "text/plain": [
       "globDF: org.apache.spark.sql.DataFrame = null\n"
      ]
     },
     "metadata": {},
     "output_type": "display_data",
     "source": "user"
    }
   ],
   "source": [
    "globDF = null\n",
    "stream.stop()"
   ]
  },
  {
   "cell_type": "code",
   "execution_count": null,
   "metadata": {},
   "outputs": [],
   "source": []
  }
 ],
 "metadata": {
  "kernelspec": {
   "display_name": "Apache Toree - Scala",
   "language": "scala",
   "name": "apache_toree_scala"
  },
  "language_info": {
   "codemirror_mode": "text/x-scala",
   "file_extension": ".scala",
   "mimetype": "text/x-scala",
   "name": "scala",
   "pygments_lexer": "scala",
   "version": "2.11.12"
  }
 },
 "nbformat": 4,
 "nbformat_minor": 4
}
