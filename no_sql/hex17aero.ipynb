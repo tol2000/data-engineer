{
 "cells": [
  {
   "cell_type": "code",
   "execution_count": null,
   "metadata": {},
   "outputs": [],
   "source": [
    "client."
   ]
  },
  {
   "cell_type": "code",
   "execution_count": 1,
   "metadata": {},
   "outputs": [],
   "source": [
    "from __future__ import print_function\n",
    "import aerospike\n",
    "import logging\n",
    "import time\n",
    "\n",
    "logging.getLogger().setLevel(logging.WARNING)\n",
    "\n",
    "maxLoops = 100\n",
    "\n",
    "aeroNameSpace = \"serving_layer\"\n",
    "aeroSet = \"customers\""
   ]
  },
  {
   "cell_type": "code",
   "execution_count": 2,
   "metadata": {},
   "outputs": [],
   "source": [
    "# Configure the client\n",
    "config = {\n",
    "    'hosts': [ ('127.0.0.1', 3000) ]\n",
    "}"
   ]
  },
  {
   "cell_type": "code",
   "execution_count": 3,
   "metadata": {},
   "outputs": [],
   "source": [
    "# Create a client and connect it to the cluster\n",
    "try:\n",
    "    client = aerospike.client(config).connect()\n",
    "except:\n",
    "    import sys\n",
    "    print(\"failed to connect to the cluster with\", config['hosts'])\n",
    "    sys.exit(1)"
   ]
  },
  {
   "cell_type": "code",
   "execution_count": null,
   "metadata": {},
   "outputs": [],
   "source": [
    "def add_customer(customer_id, phone_number, lifetime_value):\n",
    "    try:\n",
    "        client.put( (aeroNameSpace, aeroSet, customer_id), {\n",
    "            'phone_number': phone_number,\n",
    "            'lifetime_value': lifetime_value\n",
    "         })\n",
    "    except Exception as e:\n",
    "        logger.error(\"error: {0}\".format(e))"
   ]
  },
  {
   "cell_type": "code",
   "execution_count": null,
   "metadata": {},
   "outputs": [],
   "source": [
    "def get_ltv_by_id(customer_id):\n",
    "    try:\n",
    "        (key, metadata, record) = client.get(customer_id)\n",
    "        return record.get('ltv')\n",
    "    except Exception as e:\n",
    "        logger.error('Requested non-existent customer ' + str(customer_id))"
   ]
  },
  {
   "cell_type": "code",
   "execution_count": null,
   "metadata": {},
   "outputs": [],
   "source": [
    "def get_ltv_by_phone(phone_number):\n",
    "    # Здесь, вероятно, потребуется как-то искать по доп. индексу по телефону\n",
    "    # Либо сделать ход конем, что, по-моему, даже интереснее,\n",
    "    #   и создать отдельный сет (таблицу) для связи телефон--кастомер_ид, где ключом выступает уже телефон\n",
    "    #   или для этих целей в аэроспайке есть какие-то проекции... :)\n",
    "    try:\n",
    "        (key, metadata, record) = client.get(customer_id)\n",
    "        return record.get('ltv')\n",
    "    except Exception as e:\n",
    "        logging.error('Requested phone number is not found ' + str(phone_number))"
   ]
  },
  {
   "cell_type": "code",
   "execution_count": null,
   "metadata": {},
   "outputs": [],
   "source": [
    "startTime = time.time()\n",
    "for i in range(0, maxLoops):\n",
    "    add_customer(i,i,i + 1)\n",
    "print(\"Insert time by id: \", (time.time()-startTime))\n",
    "\n",
    "startTime = time.time()\n",
    "for i in range(0, maxLoops):\n",
    "    assert (i + 1 == get_ltv_by_id(i)), \"No LTV by ID \" + str(i)\n",
    "print(\"Select time by id: \", (time.time()-startTime))\n",
    "\n",
    "startTime = time.time()\n",
    "for i in range(0, maxLoops):\n",
    "    assert (i + 1 == get_ltv_by_phone(i)), \"No LTV by phone \" + str(i)\n",
    "print(\"Select time by phone: \", (time.time()-startTime))\n",
    "\n",
    "print (\"All is OK! :)\")"
   ]
  },
  {
   "cell_type": "code",
   "execution_count": 29,
   "metadata": {},
   "outputs": [],
   "source": [
    "# Close the connection to the Aerospike cluster\n",
    "client.close()"
   ]
  },
  {
   "cell_type": "code",
   "execution_count": null,
   "metadata": {},
   "outputs": [],
   "source": []
  }
 ],
 "metadata": {
  "kernelspec": {
   "display_name": "Python 3",
   "language": "python",
   "name": "python3"
  },
  "language_info": {
   "codemirror_mode": {
    "name": "ipython",
    "version": 3
   },
   "file_extension": ".py",
   "mimetype": "text/x-python",
   "name": "python",
   "nbconvert_exporter": "python",
   "pygments_lexer": "ipython3",
   "version": "3.7.3"
  }
 },
 "nbformat": 4,
 "nbformat_minor": 4
}
