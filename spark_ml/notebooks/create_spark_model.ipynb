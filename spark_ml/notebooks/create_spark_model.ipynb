{
 "cells": [
  {
   "cell_type": "code",
   "execution_count": 53,
   "metadata": {},
   "outputs": [
    {
     "name": "stdout",
     "output_type": "stream",
     "text": [
      "Current spark version is 2.4.4\n"
     ]
    }
   ],
   "source": [
    "println(s\"Current spark version is ${spark.version}\")"
   ]
  },
  {
   "cell_type": "code",
   "execution_count": 54,
   "metadata": {},
   "outputs": [
    {
     "name": "stdout",
     "output_type": "stream",
     "text": [
      "+-----+------+\n",
      "|label| count|\n",
      "+-----+------+\n",
      "|    1|800000|\n",
      "|    0|800000|\n",
      "+-----+------+\n",
      "\n",
      "+-----+-------------------------------------------------------------------------------------------------------------------+\n",
      "|label|                                                                                                              tweet|\n",
      "+-----+-------------------------------------------------------------------------------------------------------------------+\n",
      "|    0|@switchfoot http://twitpic.com/2y1zl - Awww, that's a bummer.  You shoulda got David Carr of Third Day to do it. ;D|\n",
      "|    0|    is upset that he can't update his Facebook by texting it... and might cry as a result  School today also. Blah!|\n",
      "|    0|                          @Kenichan I dived many times for the ball. Managed to save 50%  The rest go out of bounds|\n",
      "|    0|                                                                     my whole body feels itchy and like its on fire|\n",
      "|    0|     @nationwideclass no, it's not behaving at all. i'm mad. why am i here? because I can't see you all over there.|\n",
      "+-----+-------------------------------------------------------------------------------------------------------------------+\n",
      "only showing top 5 rows\n",
      "\n",
      "+-----+----------------------------------------------------------------------------------------------------------------------------------------+\n",
      "|label|                                                                                                                                   tweet|\n",
      "+-----+----------------------------------------------------------------------------------------------------------------------------------------+\n",
      "|    1|                                                                                             I LOVE @Health4UandPets u guys r the best!!|\n",
      "|    1|                                                                im meeting up with one of my besties tonight! Cant wait!!  - GIRL TALK!!|\n",
      "|    1|@DaRealSunisaKim Thanks for the Twitter add, Sunisa! I got to meet you once at a HIN show here in the DC area and you were a sweetheart.|\n",
      "|    1|                                Being sick can be really cheap when it hurts too much to eat real food  Plus, your friends make you soup|\n",
      "|    1|                                                                                          @LovesBrooklyn2 he has that effect on everyone|\n",
      "+-----+----------------------------------------------------------------------------------------------------------------------------------------+\n",
      "only showing top 5 rows\n",
      "\n"
     ]
    },
    {
     "data": {
      "text/plain": [
       "dataSchema = StructType(StructField(target,IntegerType,true), StructField(id,LongType,true), StructField(raw_timestamp,StringType,true), StructField(query_status,StringType,true), StructField(author,StringType,true), StructField(tweet,StringType,true))\n",
       "dataPath = /home/jovyan/data/training.1600000.processed.noemoticon.csv\n",
       "raw_sentiment = [label: int, tweet: string]\n"
      ]
     },
     "metadata": {},
     "output_type": "display_data",
     "source": "user"
    },
    {
     "data": {
      "text/plain": [
       "[label: int, tweet: string]"
      ]
     },
     "execution_count": 54,
     "metadata": {},
     "output_type": "execute_result"
    }
   ],
   "source": [
    "import org.apache.spark.sql.types.{StructType, StructField, IntegerType, LongType, StringType}\n",
    "\n",
    "val dataSchema = new StructType()\n",
    "    .add(\"target\", IntegerType)\n",
    "    .add(\"id\", LongType)\n",
    "    .add(\"raw_timestamp\", StringType)\n",
    "    .add(\"query_status\", StringType)\n",
    "    .add(\"author\", StringType)\n",
    "    .add(\"tweet\", StringType)\n",
    "\n",
    "val dataPath= \"/home/jovyan/data/training.1600000.processed.noemoticon.csv\"\n",
    "\n",
    "// Load and parse the data file, converting it to a DataFrame.\n",
    "val raw_sentiment = spark.read\n",
    "    .format(\"csv\")\n",
    "    .option(\"header\",false)\n",
    "    .schema(dataSchema)\n",
    "    .load(dataPath)\n",
    "    .selectExpr(\"(case when target=4 then 1 else 0 end) as label\",\"trim(tweet) as tweet\")\n",
    "\n",
    "raw_sentiment.groupBy($\"label\").count.show\n",
    "raw_sentiment.where(\"label=0\").show(5,150)\n",
    "raw_sentiment.where(\"label=1\").show(5,150)"
   ]
  },
  {
   "cell_type": "code",
   "execution_count": 55,
   "metadata": {},
   "outputs": [
    {
     "data": {
      "text/plain": [
       "tokenizer = tok_c5f7dc22a611\n",
       "hashingTF = hashingTF_2882650a5058\n",
       "labelIndexer = strIdx_e875a8015380\n",
       "featureIndexer = vecIdx_561eaf79084a\n",
       "rf = rfc_31d0ae4bc60c\n"
      ]
     },
     "metadata": {},
     "output_type": "display_data",
     "source": "user"
    },
    {
     "data": {
      "text/plain": [
       "labelConverter: org.apache.spark.ml.feature.Ind...\n"
      ]
     },
     "metadata": {},
     "output_type": "display_data",
     "source": "user"
    },
    {
     "data": {
      "text/plain": [
       "rfc_31d0ae4bc60c"
      ]
     },
     "execution_count": 55,
     "metadata": {},
     "output_type": "execute_result"
    }
   ],
   "source": [
    "import org.apache.spark.ml.{Pipeline, PipelineModel}\n",
    "import org.apache.spark.ml.feature.{HashingTF, Tokenizer}\n",
    "import org.apache.spark.ml.classification.{RandomForestClassificationModel, RandomForestClassifier}\n",
    "import org.apache.spark.ml.evaluation.MulticlassClassificationEvaluator\n",
    "import org.apache.spark.ml.feature.{IndexToString, StringIndexer, VectorIndexer}\n",
    "\n",
    "// tokenizer - split's tweet to words\n",
    "val tokenizer = new Tokenizer()\n",
    "    .setInputCol(\"tweet\")\n",
    "    .setOutputCol(\"words\")\n",
    "\n",
    "// getting features from words (through hash table)\n",
    "val hashingTF = new HashingTF()\n",
    "    .setNumFeatures(1000)\n",
    "    .setInputCol(tokenizer.getOutputCol)\n",
    "    .setOutputCol(\"features\")\n",
    "\n",
    "// Index labels, adding metadata to the label column.\n",
    "// :-) // Fit on whole dataset to include all labels in index.\n",
    "val labelIndexer = new StringIndexer()\n",
    "  .setInputCol(\"label\")\n",
    "  .setOutputCol(\"indexedLabel\")\n",
    "  .fit(raw_sentiment)\n",
    "\n",
    "// Automatically identify categorical features, and index them.\n",
    "// Set maxCategories so features with > 4 distinct values are treated as continuous.\n",
    "val featureIndexer = new VectorIndexer()\n",
    "  .setInputCol(\"features\")\n",
    "  .setOutputCol(\"indexedFeatures\")\n",
    "  .setMaxCategories(4)\n",
    "  //.fit(raw_sentiment)\n",
    "\n",
    "// Train a RandomForest model.\n",
    "val rf = new RandomForestClassifier()\n",
    "  .setLabelCol(\"indexedLabel\")\n",
    "  .setFeaturesCol(\"indexedFeatures\")\n",
    "  .setNumTrees(10)\n",
    "\n",
    "// Convert indexed labels back to original labels.\n",
    "val labelConverter = new IndexToString()\n",
    "  .setInputCol(\"prediction\")\n",
    "  .setOutputCol(\"predictedLabel\")\n",
    "  .setLabels(labelIndexer.labels)\n",
    "\n",
    "// Chain indexers and forest in a Pipeline.\n",
    "val pipeline = new Pipeline()\n",
    "  .setStages(Array(tokenizer, hashingTF, labelIndexer, featureIndexer, rf, labelConverter))"
   ]
  },
  {
   "cell_type": "code",
   "execution_count": null,
   "metadata": {},
   "outputs": [],
   "source": [
    "// Split the data into training and test sets (30% held out for testing).\n",
    "// val Array(trainingData, testData) = raw_sentiment.randomSplit(Array(0.7, 0.3))"
   ]
  },
  {
   "cell_type": "code",
   "execution_count": 56,
   "metadata": {},
   "outputs": [
    {
     "data": {
      "text/plain": [
       "model = pipeline_1d3eb1631313\n"
      ]
     },
     "metadata": {},
     "output_type": "display_data",
     "source": "user"
    },
    {
     "data": {
      "text/plain": [
       "pipeline_1d3eb1631313"
      ]
     },
     "execution_count": 56,
     "metadata": {},
     "output_type": "execute_result"
    }
   ],
   "source": [
    "// Train model. This also runs the indexers.\n",
    "val model = pipeline.fit(raw_sentiment)"
   ]
  },
  {
   "cell_type": "code",
   "execution_count": 57,
   "metadata": {},
   "outputs": [
    {
     "data": {
      "text/plain": [
       "modelPath = /home/jovyan/models/spark-ml-model\n"
      ]
     },
     "metadata": {},
     "output_type": "display_data",
     "source": "user"
    },
    {
     "data": {
      "text/plain": [
       "/home/jovyan/models/spark-ml-model"
      ]
     },
     "execution_count": 57,
     "metadata": {},
     "output_type": "execute_result"
    }
   ],
   "source": [
    "val modelPath = \"/home/jovyan/models/spark-ml-model\""
   ]
  },
  {
   "cell_type": "code",
   "execution_count": 58,
   "metadata": {},
   "outputs": [],
   "source": [
    "model.write.overwrite().save(modelPath)"
   ]
  },
  {
   "cell_type": "code",
   "execution_count": 59,
   "metadata": {},
   "outputs": [
    {
     "data": {
      "text/plain": [
       "sameModel = pipeline_1d3eb1631313\n"
      ]
     },
     "metadata": {},
     "output_type": "display_data",
     "source": "user"
    },
    {
     "data": {
      "text/plain": [
       "pipeline_1d3eb1631313"
      ]
     },
     "execution_count": 59,
     "metadata": {},
     "output_type": "execute_result"
    }
   ],
   "source": [
    "val sameModel = PipelineModel.load(modelPath)"
   ]
  },
  {
   "cell_type": "code",
   "execution_count": 63,
   "metadata": {},
   "outputs": [
    {
     "data": {
      "text/plain": [
       "predictionsDF = [label: int, tweet: string ... 8 more fields]\n"
      ]
     },
     "metadata": {},
     "output_type": "display_data",
     "source": "user"
    },
    {
     "data": {
      "text/plain": [
       "[label: int, tweet: string ... 8 more fields]"
      ]
     },
     "execution_count": 63,
     "metadata": {},
     "output_type": "execute_result"
    }
   ],
   "source": [
    "// Make predictions on 30%th test set\n",
    "val predictionsDF = sameModel.transform(raw_sentiment)"
   ]
  },
  {
   "cell_type": "code",
   "execution_count": 66,
   "metadata": {},
   "outputs": [
    {
     "name": "stdout",
     "output_type": "stream",
     "text": [
      "+--------------------+--------------------+--------------------+--------------------+--------------------+----------+\n",
      "|               tweet|               words|            features|       rawPrediction|         probability|prediction|\n",
      "+--------------------+--------------------+--------------------+--------------------+--------------------+----------+\n",
      "|@switchfoot http:...|[@switchfoot, htt...|(1000,[7,14,21,54...|[4.43931449741300...|[0.44393144974130...|       1.0|\n",
      "|is upset that he ...|[is, upset, that,...|(1000,[170,193,22...|[5.46349235938573...|[0.54634923593857...|       0.0|\n",
      "|@Kenichan I dived...|[@kenichan, i, di...|(1000,[10,36,77,1...|[5.60297627210827...|[0.56029762721082...|       0.0|\n",
      "|my whole body fee...|[my, whole, body,...|(1000,[82,191,296...|[5.50443548555005...|[0.55044354855500...|       0.0|\n",
      "|@nationwideclass ...|[@nationwideclass...|(1000,[18,96,130,...|[5.00477983480453...|[0.50047798348045...|       0.0|\n",
      "|@Kwesidei not the...|[@kwesidei, not, ...|(1000,[18,223,710...|[4.88423644978360...|[0.48842364497836...|       1.0|\n",
      "|          Need a hug|      [need, a, hug]|(1000,[48,170,537...|[4.88423644978360...|[0.48842364497836...|       1.0|\n",
      "|@LOLTrish hey  lo...|[@loltrish, hey, ...|(1000,[139,157,17...|[4.73735323941076...|[0.47373532394107...|       1.0|\n",
      "|@Tatiana_K nope t...|[@tatiana_k, nope...|(1000,[48,234,299...|[4.88423644978360...|[0.48842364497836...|       1.0|\n",
      "|@twittera que me ...|[@twittera, que, ...|(1000,[161,324,47...|[4.94614153371915...|[0.49461415337191...|       1.0|\n",
      "|spring break in p...|[spring, break, i...|(1000,[13,193,301...|[4.88423644978360...|[0.48842364497836...|       1.0|\n",
      "|I just re-pierced...|[i, just, re-pier...|(1000,[307,329,47...|[5.50443548555005...|[0.55044354855500...|       0.0|\n",
      "|@caregiving I cou...|[@caregiving, i, ...|(1000,[56,202,234...|[5.31733102968485...|[0.53173310296848...|       0.0|\n",
      "|@octolinz16 It it...|[@octolinz16, it,...|(1000,[126,230,32...|[4.14293320983222...|[0.41429332098322...|       1.0|\n",
      "|@smarrison i woul...|[@smarrison, i, w...|(1000,[18,83,170,...|[5.12017203584503...|[0.51201720358450...|       0.0|\n",
      "|@iamjazzyfizzle I...|[@iamjazzyfizzle,...|(1000,[7,71,202,2...|[4.79648460326501...|[0.47964846032650...|       1.0|\n",
      "|Hollis' death sce...|[hollis', death, ...|(1000,[2,3,18,82,...|[5.0007142316676,...|[0.50007142316676...|       0.0|\n",
      "| about to file taxes|[about, to, file,...|(1000,[108,388,48...|[4.88423644978360...|[0.48842364497836...|       1.0|\n",
      "|@LettyA ahh ive a...|[@lettya, ahh, iv...|(1000,[13,107,201...|[4.65614738179131...|[0.46561473817913...|       1.0|\n",
      "|@FakerPattyPattz ...|[@fakerpattypattz...|(1000,[53,102,154...|[4.56015534791861...|[0.45601553479186...|       1.0|\n",
      "+--------------------+--------------------+--------------------+--------------------+--------------------+----------+\n",
      "only showing top 20 rows\n",
      "\n"
     ]
    }
   ],
   "source": [
    "predictionsDF.select(\"tweet\", \"words\", \"features\", \"rawPrediction\", \"probability\", \"prediction\").show(20)\n",
    "//predictionsDF.where(\"tweet like '%Need a hug%'\").select(\"tweet\", \"words\", \"features\").show(20,70)"
   ]
  },
  {
   "cell_type": "code",
   "execution_count": null,
   "metadata": {},
   "outputs": [],
   "source": [
    "// Some examples from doc...\n",
    "\n",
    "/*\n",
    "// Select (prediction, true label) and compute test error.\n",
    "val evaluator = new MulticlassClassificationEvaluator()\n",
    "  .setLabelCol(\"indexedLabel\")\n",
    "  .setPredictionCol(\"prediction\")\n",
    "  .setMetricName(\"accuracy\")\n",
    "val accuracy = evaluator.evaluate(predictionsDF)\n",
    "println(s\"Test Error = ${(1.0 - accuracy)}\")\n",
    "\n",
    "val rfModel = model.stages(2).asInstanceOf[RandomForestClassificationModel]\n",
    "println(s\"Learned classification forest model:\\n ${rfModel.toDebugString}\")\n",
    "*/"
   ]
  },
  {
   "cell_type": "code",
   "execution_count": 68,
   "metadata": {},
   "outputs": [
    {
     "name": "stdout",
     "output_type": "stream",
     "text": [
      "+--------------+-----+----------------------------------------+----------------------------------------+----------------------------------------+\n",
      "|predictedLabel|label|                                   tweet|                                   words|                                features|\n",
      "+--------------+-----+----------------------------------------+----------------------------------------+----------------------------------------+\n",
      "|             1|    0|@switchfoot http://twitpic.com/2y1zl ...|[@switchfoot, http://twitpic.com/2y1z...|(1000,[7,14,21,54,91,170,220,246,311,...|\n",
      "|             0|    0|is upset that he can't update his Fac...|[is, upset, that, he, can't, update, ...|(1000,[170,193,223,248,281,333,343,37...|\n",
      "|             0|    0|@Kenichan I dived many times for the ...|[@kenichan, i, dived, many, times, fo...|(1000,[10,36,77,188,207,248,329,338,3...|\n",
      "|             0|    0|my whole body feels itchy and like it...|[my, whole, body, feels, itchy, and, ...|(1000,[82,191,296,330,333,648,841,903...|\n",
      "|             0|    0|@nationwideclass no, it's not behavin...|[@nationwideclass, no,, it's, not, be...|(1000,[18,96,130,173,248,329,352,380,...|\n",
      "|             1|    0|            @Kwesidei not the whole crew|      [@kwesidei, not, the, whole, crew]|(1000,[18,223,710,758,903],[1.0,1.0,1...|\n",
      "|             1|    0|                              Need a hug|                          [need, a, hug]|       (1000,[48,170,537],[1.0,1.0,1.0])|\n",
      "|             1|    0|@LOLTrish hey  long time no see! Yes....|[@loltrish, hey, , long, time, no, se...|(1000,[139,157,170,230,253,346,372,38...|\n",
      "|             1|    0|     @Tatiana_K nope they didn't have it|[@tatiana_k, nope, they, didn't, have...|(1000,[48,234,299,432,495,748],[1.0,1...|\n",
      "|             1|    0|                @twittera que me muera ?|          [@twittera, que, me, muera, ?]|(1000,[161,324,471,490,976],[1.0,1.0,...|\n",
      "|             1|    1|I LOVE @Health4UandPets u guys r the ...|[i, love, @health4uandpets, u, guys, ...|(1000,[216,240,329,401,526,570,681,71...|\n",
      "|             0|    1|im meeting up with one of my besties ...|[im, meeting, up, with, one, of, my, ...|(1000,[26,29,44,86,120,128,238,343,37...|\n",
      "|             1|    1|@DaRealSunisaKim Thanks for the Twitt...|[@darealsunisakim, thanks, for, the, ...|(1000,[7,19,36,135,147,170,184,230,32...|\n",
      "|             1|    1|Being sick can be really cheap when i...|[being, sick, can, be, really, cheap,...|(1000,[76,196,263,310,372,374,388,425...|\n",
      "|             1|    1|@LovesBrooklyn2 he has that effect on...|[@lovesbrooklyn2, he, has, that, effe...|(1000,[36,82,580,760,793,893,997],[1....|\n",
      "|             1|    1|@ProductOfFear You can tell him that ...|[@productoffear, you, can, tell, him,...|(1000,[1,36,201,230,307,310,329,343,3...|\n",
      "|             1|    1|@r_keith_hill Thans for your response...|[@r_keith_hill, thans, for, your, res...|(1000,[36,56,57,188,263,340,373,467,5...|\n",
      "|             1|    1|@KeepinUpWKris I am so jealous, hope ...|[@keepinupwkris, i, am, so, jealous,,...|(1000,[0,157,170,173,237,240,260,263,...|\n",
      "|             1|    1|@tommcfly ah, congrats mr fletcher fo...|[@tommcfly, ah,, congrats, mr, fletch...|(1000,[36,272,318,574,602,622,711,791...|\n",
      "|             1|    1|@e4VoIP I RESPONDED  Stupid cat is he...|[@e4voip, i, responded, , stupid, cat...|(1000,[121,281,329,372,389,412,456,47...|\n",
      "+--------------+-----+----------------------------------------+----------------------------------------+----------------------------------------+\n",
      "\n"
     ]
    }
   ],
   "source": [
    "// Select example rows to display.\n",
    "predictionsDF.where(\"label=0\").limit(10).union(predictionsDF.where(\"label=1\").limit(10)).select(\"predictedLabel\", \"label\", \"tweet\", \"words\", \"features\").show(20,40)"
   ]
  },
  {
   "cell_type": "code",
   "execution_count": null,
   "metadata": {},
   "outputs": [],
   "source": [
    "predictionsDF.where(\"label=0\").limit(15).union(predictionsDF.where(\"label=1\").limit(15))\n",
    "   .selectExpr(\n",
    "       \"label\",\"tweet\",\"cast (words as string)\",\"cast (features as string)\",\"cast (rawPrediction as string)\",\"cast (probability as string)\",\"prediction\"\n",
    "   )\n",
    "   .coalesce(1)\n",
    "   .write.format(\"csv\")\n",
    "   .mode(\"overwrite\")\n",
    "   .option(\"header\", \"true\")\n",
    "   .save(\"/home/jovyan/work/predictionsDF.csv\")"
   ]
  },
  {
   "cell_type": "code",
   "execution_count": null,
   "metadata": {},
   "outputs": [],
   "source": [
    "import org.apache.spark.sql.functions._\n",
    "\n",
    "val getProbability =\n",
    "    udf(\n",
    "        (prediction: org.apache.spark.ml.linalg.Vector) =>\n",
    "        {\n",
    "            BigDecimal(prediction(0)).setScale(2, BigDecimal.RoundingMode.HALF_UP)+\n",
    "            \" / \"+\n",
    "            BigDecimal(prediction(1)).setScale(2, BigDecimal.RoundingMode.HALF_UP)\n",
    "        }\n",
    "    )\n",
    "\n",
    "predictionsDF.where(\"label=0\").limit(10).union(predictionsDF.where(\"label=1\").limit(10))\n",
    "    .select(getProbability($\"probability\").alias(\"clean_probability_0_1\"),$\"label\").show(20,100)"
   ]
  },
  {
   "cell_type": "code",
   "execution_count": null,
   "metadata": {},
   "outputs": [],
   "source": []
  }
 ],
 "metadata": {
  "kernelspec": {
   "display_name": "Apache Toree - Scala",
   "language": "scala",
   "name": "apache_toree_scala"
  },
  "language_info": {
   "codemirror_mode": "text/x-scala",
   "file_extension": ".scala",
   "mimetype": "text/x-scala",
   "name": "scala",
   "pygments_lexer": "scala",
   "version": "2.11.12"
  }
 },
 "nbformat": 4,
 "nbformat_minor": 4
}
