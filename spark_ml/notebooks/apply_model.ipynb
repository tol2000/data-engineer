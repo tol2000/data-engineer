{
 "cells": [
  {
   "cell_type": "markdown",
   "metadata": {},
   "source": [
    "# Прием и обработка твитов микробатчем"
   ]
  },
  {
   "cell_type": "markdown",
   "metadata": {},
   "source": [
    "## Инициализация"
   ]
  },
  {
   "cell_type": "code",
   "execution_count": 1,
   "metadata": {},
   "outputs": [],
   "source": [
    "import org.apache.spark.sql.types.{StructType, StringType, IntegerType, TimestampType}\n",
    "import org.apache.spark.ml.{Pipeline, PipelineModel}\n",
    "import org.apache.spark.sql.functions._\n",
    "import org.apache.spark.sql.DataFrame\n",
    "import org.apache.toree.kernel.api\n",
    "import java.util.Calendar"
   ]
  },
  {
   "cell_type": "code",
   "execution_count": 2,
   "metadata": {},
   "outputs": [
    {
     "name": "stdout",
     "output_type": "stream",
     "text": [
      "Current spark version is 2.4.4\n"
     ]
    }
   ],
   "source": [
    "println(s\"Current spark version is ${spark.version}\")"
   ]
  },
  {
   "cell_type": "markdown",
   "metadata": {},
   "source": [
    "## Чтение модели"
   ]
  },
  {
   "cell_type": "code",
   "execution_count": 3,
   "metadata": {},
   "outputs": [
    {
     "data": {
      "text/plain": [
       "modelPath = /home/jovyan/models/spark-ml-model\n",
       "model = pipeline_6cb85880407d\n"
      ]
     },
     "metadata": {},
     "output_type": "display_data",
     "source": "user"
    },
    {
     "data": {
      "text/plain": [
       "pipeline_6cb85880407d"
      ]
     },
     "execution_count": 3,
     "metadata": {},
     "output_type": "execute_result"
    }
   ],
   "source": [
    "val modelPath = \"/home/jovyan/models/spark-ml-model\"\n",
    "val model = PipelineModel.load(modelPath)"
   ]
  },
  {
   "cell_type": "markdown",
   "metadata": {},
   "source": [
    "## Определяем схему и инициируем потоковый датафрейм"
   ]
  },
  {
   "cell_type": "code",
   "execution_count": 4,
   "metadata": {},
   "outputs": [
    {
     "data": {
      "text/plain": [
       "inputStreamPath = /home/jovyan/work/events-stream\n",
       "modelPath = /home/jovyan/models/spark-ml-model\n",
       "dataSchema = StructType(StructField(tweet,StringType,true), StructField(hiddentargetclue,IntegerType,true), StructField(arrived_key,StringType,true), StructField(timestamp,TimestampType,true))\n",
       "inputDF = [tweet: string, hiddentargetclue: int ... 2 more fields]\n"
      ]
     },
     "metadata": {},
     "output_type": "display_data",
     "source": "user"
    },
    {
     "data": {
      "text/plain": [
       "[tweet: string, hiddentargetclue: int ... 2 more fields]"
      ]
     },
     "execution_count": 4,
     "metadata": {},
     "output_type": "execute_result"
    }
   ],
   "source": [
    "val inputStreamPath = \"/home/jovyan/work/events-stream\"\n",
    "val modelPath = \"/home/jovyan/models/spark-ml-model\"\n",
    "\n",
    "val dataSchema = new StructType()\n",
    "    .add(\"tweet\", StringType)\n",
    "    .add(\"hiddentargetclue\", IntegerType)\n",
    "    .add(\"arrived_key\", StringType)\n",
    "    .add(\"timestamp\", TimestampType)\n",
    "\n",
    "val inputDF = spark\n",
    "    .readStream\n",
    "    .schema(dataSchema)\n",
    "    .option(\"maxFilesPerTrigger\", 1)\n",
    "    .json(inputStreamPath)"
   ]
  },
  {
   "cell_type": "markdown",
   "metadata": {},
   "source": [
    "## Глобальная переменная для удобства просмотра датасета в отдельной ячейке"
   ]
  },
  {
   "cell_type": "code",
   "execution_count": 5,
   "metadata": {},
   "outputs": [
    {
     "data": {
      "text/plain": [
       "globDF: org.apache.spark.sql.DataFrame = null\n"
      ]
     },
     "metadata": {},
     "output_type": "display_data",
     "source": "user"
    }
   ],
   "source": [
    "var globDF:DataFrame = null"
   ]
  },
  {
   "cell_type": "markdown",
   "metadata": {},
   "source": [
    "## Внимание!\n",
    "- К сожалению, я не нашел внятной доки по апи ядра toree, чтобы нормально выводить оперативно изменяющийся датасет в этом ноутбуке\n",
    "- В связи с этим см. след. пункт\n",
    "- В блоке приема твитов ниже вывод датасета для удобства просмотра осуществляется через глобальную переменную globDF, которая просматривается при помощи выполнения блока, следующего за приемом твитов"
   ]
  },
  {
   "cell_type": "markdown",
   "metadata": {},
   "source": [
    "## Микробатч приема твитов"
   ]
  },
  {
   "cell_type": "code",
   "execution_count": 6,
   "metadata": {
    "scrolled": true
   },
   "outputs": [
    {
     "name": "stdout",
     "output_type": "stream",
     "text": [
      "2020-01-28T07:46:31.564Z - loaded from the events stream 1 times\r"
     ]
    },
    {
     "data": {
      "text/plain": [
       "getProbability = UserDefinedFunction(<function2>,DoubleType,Some(List(org.apache.spark.ml.linalg.VectorUDT@3bfc3ba7, IntegerType)))\n",
       "fRuns = 0\n",
       "stream = org.apache.spark.sql.execution.streaming.StreamingQueryWrapper@35a036eb\n"
      ]
     },
     "metadata": {},
     "output_type": "display_data",
     "source": "user"
    },
    {
     "data": {
      "text/plain": [
       "org.apache.spark.sql.execution.streaming.StreamingQueryWrapper@35a036eb"
      ]
     },
     "execution_count": 6,
     "metadata": {},
     "output_type": "execute_result"
    },
    {
     "name": "stdout",
     "output_type": "stream",
     "text": [
      "2020-01-28T07:49:43.213Z - loaded from the events stream 62 times\r"
     ]
    }
   ],
   "source": [
    "// Определяем udf для получения probability по 0 и 1\n",
    "val getProbability =\n",
    "    udf(\n",
    "        (prediction: org.apache.spark.ml.linalg.Vector, pos: Integer) =>\n",
    "        {\n",
    "            prediction(pos)\n",
    "        }\n",
    "    )\n",
    "\n",
    "var fRuns = 0\n",
    "\n",
    "// Микробатч для вывода результата предсказания\n",
    "// Выводится вероятность негативного твита\n",
    "// В задании написано, что это последняя колонка, но она здесь вроде первая (в позиции 0)\n",
    "val stream = inputDF.writeStream.foreachBatch {\n",
    "    (batchDF: DataFrame, batchId: Long) => {\n",
    "        try {\n",
    "            fRuns += 1\n",
    "            print(s\"${Calendar.getInstance().toInstant} - loaded from the events stream $fRuns times\"+13.toChar)\n",
    "            // Применяем модель и получаем соотв. датасет с предсказаниями\n",
    "            globDF = \n",
    "                model.transform(batchDF)\n",
    "                    .select(\n",
    "                        $\"arrived_key\",\n",
    "                        $\"timestamp\",\n",
    "                        $\"tweet\",\n",
    "                        // $\"hiddentargetclue\",\n",
    "                        (getProbability($\"probability\",lit(0))).alias(\"Negative Probability\")\n",
    "                    )\n",
    "        } catch {\n",
    "            case e:Throwable => {\n",
    "                print(e.getMessage.replaceAll(\"\\n\",\" \"))\n",
    "                print(13.toChar)\n",
    "            }\n",
    "        }\n",
    "    }\n",
    "}.start()"
   ]
  },
  {
   "cell_type": "markdown",
   "metadata": {},
   "source": [
    "## Блок просмотра результата\n",
    "- Этот блок предназначен для просмотра результата потоковой обработки твитов и применения модели из предыдущего блока\n",
    "- Каждый раз при выполнении этого блока будет выводиться оперативное состояние датасета из блока выше"
   ]
  },
  {
   "cell_type": "code",
   "execution_count": 14,
   "metadata": {},
   "outputs": [
    {
     "data": {
      "text/html": [
       "<table><tr><th>arrived_key</th><th>timestamp</th><th>tweet</th><th>Negative Probability</th></tr><tr><td>2020-01-28 07:49:32.801 - 46198</td><td>2020-01-28 09:49:32.801</td><td>aww man...   @nomtweets sounds delicious, but there's nothing tasty about them at all. boo-urns </td><td>0.5120172035845034</td></tr><tr><td>2020-01-28 07:49:32.801 - 13443</td><td>2020-01-28 09:49:32.801</td><td>@mrscurvy I love to interact with people and no body's here. *tears* except the staff and it's a skeleton crew today. </td><td>0.48005796380371935</td></tr><tr><td>2020-01-28 07:49:32.801 - 15546</td><td>2020-01-28 09:49:32.801</td><td>MY HUBBY @EmoneyAKAweezy WANTS ME TO HIT IMPERIAL TONIGHT, BUT: I GOTTA GO OT WITH MAX   UGGGH. I MISS MY BEBE. OWWW</td><td>0.6556136403895654</td></tr><tr><td>2020-01-28 07:49:32.801 - 22021</td><td>2020-01-28 09:49:32.801</td><td>@curexcomplex  sure is!</td><td>0.4884236449783609</td></tr><tr><td>2020-01-28 07:49:32.801 - 43841</td><td>2020-01-28 09:49:32.801</td><td>@FizzyDuck i know, it's just the last time, all that came up was a borked link.  but now i shall go and snoop about UFOs!</td><td>0.5127155838348411</td></tr><tr><td>2020-01-28 07:49:32.801 - 45891</td><td>2020-01-28 09:49:32.801</td><td>I really dont feel like washing my Jeep this week </td><td>0.5761298796781984</td></tr><tr><td>2020-01-28 07:49:32.801 - 55695</td><td>2020-01-28 09:49:32.801</td><td>@dmeeno Woke up and couldn't get back to sleep </td><td>0.539775721703144</td></tr><tr><td>2020-01-28 07:49:32.801 - 66650</td><td>2020-01-28 09:49:32.801</td><td>@emilybourne except she got bored and went outside </td><td>0.4979333211092284</td></tr><tr><td>2020-01-28 07:49:32.801 - 71033</td><td>2020-01-28 09:49:32.801</td><td>is hanging with chey tonight, hurry and get off work </td><td>0.5231740833608696</td></tr><tr><td>2020-01-28 07:49:32.801 - 75281</td><td>2020-01-28 09:49:32.801</td><td>I have officially become #jealousengage09  </td><td>0.4884236449783609</td></tr><tr><td>2020-01-28 07:49:32.801 - 87435</td><td>2020-01-28 09:49:32.801</td><td>looking for some food </td><td>0.4884236449783609</td></tr><tr><td>2020-01-28 07:49:32.801 - 87821</td><td>2020-01-28 09:49:32.801</td><td>I just want to use your love tonight, i dont want to lose your love tonight. </td><td>0.4753521003622295</td></tr><tr><td>2020-01-28 07:49:32.801 - 10523</td><td>2020-01-28 09:49:32.801</td><td>@PromoMarketer You're very welcome, I found it very useful myself </td><td>0.4884236449783609</td></tr><tr><td>2020-01-28 07:49:32.801 - 11018</td><td>2020-01-28 09:49:32.801</td><td>Looks like everyone is at the #relay. Only @amberchia here etc. #ms.universe finals. Anyone... Tweet me. </td><td>0.49388091477320595</td></tr><tr><td>2020-01-28 07:49:32.801 - 12612</td><td>2020-01-28 09:49:32.801</td><td>And of course, I couldn't help but update my wish list: http://is.gd/LU8s </td><td>0.5921387483610399</td></tr><tr><td>2020-01-28 07:49:32.801 - 13296</td><td>2020-01-28 09:49:32.801</td><td>@HughSachs Welcome to the happy world of Twitter </td><td>0.4884236449783609</td></tr><tr><td>2020-01-28 07:49:32.801 - 13815</td><td>2020-01-28 09:49:32.801</td><td>@hbdancingirl yay! we need to all hangout this summer! </td><td>0.4884236449783609</td></tr><tr><td>2020-01-28 07:49:32.801 - 14225</td><td>2020-01-28 09:49:32.801</td><td>@just_ma well that is a very good question...one that i have no answer to at this time.  but i will keep u posted! xo</td><td>0.526085158561936</td></tr><tr><td>2020-01-28 07:49:32.801 - 14771</td><td>2020-01-28 09:49:32.801</td><td>@coeurenbois yes it's not my favorite, but i get off mondays and tuesdays </td><td>0.5504435485550055</td></tr></table>"
      ]
     },
     "execution_count": 14,
     "metadata": {},
     "output_type": "execute_result"
    }
   ],
   "source": [
    "%%dataframe --limit=100\n",
    "globDF"
   ]
  },
  {
   "cell_type": "markdown",
   "metadata": {},
   "source": [
    "## Останов чтения потока"
   ]
  },
  {
   "cell_type": "code",
   "execution_count": 15,
   "metadata": {},
   "outputs": [
    {
     "data": {
      "text/plain": [
       "globDF: org.apache.spark.sql.DataFrame = null\n"
      ]
     },
     "metadata": {},
     "output_type": "display_data",
     "source": "user"
    }
   ],
   "source": [
    "globDF = null\n",
    "stream.stop()"
   ]
  }
 ],
 "metadata": {
  "kernelspec": {
   "display_name": "Apache Toree - Scala",
   "language": "scala",
   "name": "apache_toree_scala"
  },
  "language_info": {
   "codemirror_mode": "text/x-scala",
   "file_extension": ".scala",
   "mimetype": "text/x-scala",
   "name": "scala",
   "pygments_lexer": "scala",
   "version": "2.11.12"
  }
 },
 "nbformat": 4,
 "nbformat_minor": 4
}
