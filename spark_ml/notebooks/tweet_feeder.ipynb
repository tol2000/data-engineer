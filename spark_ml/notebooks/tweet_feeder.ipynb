{
 "cells": [
  {
   "cell_type": "markdown",
   "metadata": {},
   "source": [
    "# Генерирование случайных твитов в поток"
   ]
  },
  {
   "cell_type": "code",
   "execution_count": 1,
   "metadata": {},
   "outputs": [
    {
     "name": "stdout",
     "output_type": "stream",
     "text": [
      "Current spark version is 2.4.4\n"
     ]
    }
   ],
   "source": [
    "println(s\"Current spark version is ${spark.version}\")"
   ]
  },
  {
   "cell_type": "code",
   "execution_count": 2,
   "metadata": {},
   "outputs": [
    {
     "name": "stdout",
     "output_type": "stream",
     "text": [
      "Total tweets in file: 1600000\n"
     ]
    },
    {
     "data": {
      "text/plain": [
       "dataSchema = StructType(StructField(target,IntegerType,true), StructField(id,LongType,true), StructField(raw_timestamp,StringType,true), StructField(query_status,StringType,true), StructField(author,StringType,true), StructField(tweet,StringType,true))\n",
       "dataPath = /home/jovyan/data/training.1600000.processed.noemoticon.csv\n",
       "raw_sentiment = [tweet: string, hiddentargetclue: int ... 2 more fields]\n"
      ]
     },
     "metadata": {},
     "output_type": "display_data",
     "source": "user"
    },
    {
     "data": {
      "text/plain": [
       "[tweet: string, hiddentargetclue: int ... 2 more fields]"
      ]
     },
     "execution_count": 2,
     "metadata": {},
     "output_type": "execute_result"
    }
   ],
   "source": [
    "import org.apache.spark.sql.types.{StructType, StructField, IntegerType, LongType, StringType}\n",
    "\n",
    "val dataSchema = new StructType()\n",
    "    .add(\"target\", IntegerType)\n",
    "    .add(\"id\", LongType)\n",
    "    .add(\"raw_timestamp\", StringType)\n",
    "    .add(\"query_status\", StringType)\n",
    "    .add(\"author\", StringType)\n",
    "    .add(\"tweet\", StringType)\n",
    "\n",
    "val dataPath= \"/home/jovyan/data/training.1600000.processed.noemoticon.csv\"\n",
    "\n",
    "val raw_sentiment = spark.read\n",
    "    .format(\"csv\")\n",
    "    .option(\"header\",false)\n",
    "    .schema(dataSchema)\n",
    "    .load(dataPath)\n",
    "    .selectExpr(\n",
    "        \"tweet\",\n",
    "        \"(case when target=4 then 1 else 0 end) as hiddentargetclue\",\n",
    "        \"current_timestamp||' - '||lpad((row_number() over (order  by null)),5,'0') as arrived_key\",\n",
    "        \"current_timestamp + INTERVAL 2 hours as timestamp\"  //Что-то с локальным временем в спарке, несмотря на настройки...\n",
    "    )\n",
    "\n",
    "println(s\"Total tweets in file: ${raw_sentiment.count}\")"
   ]
  },
  {
   "cell_type": "code",
   "execution_count": 3,
   "metadata": {},
   "outputs": [
    {
     "name": "stdout",
     "output_type": "stream",
     "text": [
      "Streaming started!\n"
     ]
    },
    {
     "data": {
      "text/plain": [
       "outputStreamPath = /home/jovyan/work/events-stream\n",
       "writeMode = overwrite\n",
       "fRuns = 0\n",
       "fTweets = 0\n",
       "timer = java.util.Timer@73aef4d8\n",
       "task = $anon$1@562bcd3a\n"
      ]
     },
     "metadata": {},
     "output_type": "display_data",
     "source": "user"
    },
    {
     "data": {
      "text/plain": [
       "$anon$1@562bcd3a"
      ]
     },
     "execution_count": 3,
     "metadata": {},
     "output_type": "execute_result"
    },
    {
     "name": "stdout",
     "output_type": "stream",
     "text": [
      "2020-01-28T14:56:28.384Z - saved to the events stream 122240 tweets 7595 times\r"
     ]
    }
   ],
   "source": [
    "import java.util.{Calendar, Timer, TimerTask}\n",
    "\n",
    "val outputStreamPath = \"/home/jovyan/work/events-stream\"\n",
    "var writeMode = \"overwrite\" // first - overwrite for initialy empty dest dir\n",
    "\n",
    "var fRuns: Long = 0\n",
    "var fTweets: Long = 0\n",
    "\n",
    "val timer = new Timer()\n",
    "\n",
    "val task = new TimerTask {\n",
    "  def run(): Unit = {\n",
    "      val data = raw_sentiment.sample(fraction=0.00001,withReplacement=true)\n",
    "      data.coalesce(1).write.format(\"json\").mode(writeMode).save(outputStreamPath)\n",
    "      writeMode = \"append\" // next - append\n",
    "      fRuns += 1\n",
    "      fTweets += data.count()\n",
    "      print(s\"${Calendar.getInstance().toInstant} - saved to the events stream $fTweets tweets $fRuns times\"+13.toChar)\n",
    "  } \n",
    "}\n",
    "\n",
    "println(\"Streaming started!\")\n",
    "\n",
    "timer.schedule(task, 1000L, 1000L)"
   ]
  },
  {
   "cell_type": "code",
   "execution_count": 4,
   "metadata": {},
   "outputs": [
    {
     "name": "stdout",
     "output_type": "stream",
     "text": [
      "Streaming stopped!\n"
     ]
    }
   ],
   "source": [
    "task.cancel()\n",
    "println(\"Streaming stopped!\")"
   ]
  },
  {
   "cell_type": "code",
   "execution_count": null,
   "metadata": {},
   "outputs": [],
   "source": []
  }
 ],
 "metadata": {
  "kernelspec": {
   "display_name": "Apache Toree - Scala",
   "language": "scala",
   "name": "apache_toree_scala"
  },
  "language_info": {
   "codemirror_mode": "text/x-scala",
   "file_extension": ".scala",
   "mimetype": "text/x-scala",
   "name": "scala",
   "pygments_lexer": "scala",
   "version": "2.11.12"
  }
 },
 "nbformat": 4,
 "nbformat_minor": 4
}
