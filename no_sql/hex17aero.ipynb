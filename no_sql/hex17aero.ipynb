{
 "cells": [
  {
   "cell_type": "code",
   "execution_count": 213,
   "metadata": {},
   "outputs": [],
   "source": [
    "from __future__ import print_function\n",
    "import aerospike\n",
    "from aerospike import predicates\n",
    "from aerospike import exception\n",
    "import logging\n",
    "import time\n",
    "\n",
    "logging.getLogger().setLevel(logging.WARNING)\n",
    "\n",
    "maxLoops = 100\n",
    "\n",
    "aeroHost = (\"127.0.0.1\", 3000)\n",
    "aeroSet = \"customers\""
   ]
  },
  {
   "cell_type": "code",
   "execution_count": 214,
   "metadata": {},
   "outputs": [],
   "source": [
    "# Configure the client\n",
    "config = {\n",
    "    'hosts': [ aeroHost ]\n",
    "}"
   ]
  },
  {
   "cell_type": "code",
   "execution_count": 215,
   "metadata": {},
   "outputs": [],
   "source": [
    "# Create a client and connect it to the cluster\n",
    "try:\n",
    "    client = aerospike.client(config).connect()\n",
    "except:\n",
    "    import sys\n",
    "    print(\"failed to connect to the cluster with\", config['hosts'])\n",
    "    sys.exit(1)"
   ]
  },
  {
   "cell_type": "code",
   "execution_count": 216,
   "metadata": {},
   "outputs": [
    {
     "name": "stdout",
     "output_type": "stream",
     "text": [
      "Cluster's current namespace is test\n",
      "Creating indexes...\n",
      "Needed indexes already exists\n",
      "Secondary indexes:\n",
      "{'BB9020015AC4202': (None, 'ns=test:set=customers:indexname=test_customers_phone_number_idx:bin=phone_number:type=STRING:indextype=NONE:path=phone_number:state=RW;\\n')}\n"
     ]
    }
   ],
   "source": [
    "# Выбор пространства имен и его предварительная инициализация \n",
    "\n",
    "# Поскольку предупреждали, что запуск будет производиться на чистом аэроспайке:\n",
    "#   - мы не знаем, какой там неймспейс, в итоге берем первый попавшийся :)\n",
    "#   - создаем вторичный индекс по бину телефона\n",
    "\n",
    "aeroNameSpace = client.info_node(\"namespaces\", aeroHost, None).split(\"\\n\")[0].split(\"\\t\")[1]\n",
    "print(\"Cluster's current namespace is\",aeroNameSpace)\n",
    "\n",
    "try:\n",
    "    print(\"Creating indexes...\")\n",
    "    client.index_string_create(aeroNameSpace, aeroSet, \"phone_number\", aeroNameSpace+\"_\"+aeroSet+\"_phone_number_idx\")\n",
    "except exception.IndexFoundError:\n",
    "    print(\"Needed indexes already exists\")\n",
    "else:\n",
    "    print(\"Indexes created\")\n",
    "\n",
    "print(\"Secondary indexes:\")\n",
    "print(client.info('sindex/test'))"
   ]
  },
  {
   "cell_type": "code",
   "execution_count": 217,
   "metadata": {},
   "outputs": [],
   "source": [
    "def add_customer(customer_id, phone_number:str, lifetime_value):\n",
    "    try:\n",
    "        client.put( (aeroNameSpace, aeroSet, customer_id), {\n",
    "            'phone_number': phone_number,\n",
    "            'lifetime_value': lifetime_value\n",
    "         })\n",
    "    except Exception as e:\n",
    "        logger.error(\"error: {0}\".format(e))"
   ]
  },
  {
   "cell_type": "code",
   "execution_count": 218,
   "metadata": {},
   "outputs": [],
   "source": [
    "# Дополнительная функция нахождения любого клиентского бина по главному ключу\n",
    "def get_bin_by_id(customer_id, binName):\n",
    "    try:\n",
    "        (key, metadata, record) = client.get((aeroNameSpace, aeroSet, customer_id))\n",
    "        return record.get(binName)\n",
    "    except Exception as e:\n",
    "        logger.error('Requested non-existent customer ' + str(customer_id))"
   ]
  },
  {
   "cell_type": "code",
   "execution_count": 219,
   "metadata": {},
   "outputs": [],
   "source": [
    "def get_ltv_by_id(customer_id):\n",
    "    try:\n",
    "        (key, metadata, record) = client.get((aeroNameSpace, aeroSet, customer_id))\n",
    "        return record.get(\"lifetime_value\")\n",
    "    except Exception as e:\n",
    "        logger.error('Requested non-existent customer ' + str(customer_id))"
   ]
  },
  {
   "cell_type": "code",
   "execution_count": 220,
   "metadata": {},
   "outputs": [],
   "source": [
    "def get_ltv_by_phone(phone_number:str):\n",
    "    try:\n",
    "        # Создаем запрос для поиска телефона\n",
    "        aeroQuery = client.query(aeroNameSpace, aeroSet)\n",
    "        (key, metadata, bins) = client.select((aeroNameSpace, aeroSet, phone_number), [\"lifetime_value\"])\n",
    "        return bins.get(\"lifetime_value\")\n",
    "    except Exception as e:\n",
    "        logging.error('Requested phone number is not found ' + str(phone_number))"
   ]
  },
  {
   "cell_type": "code",
   "execution_count": 221,
   "metadata": {},
   "outputs": [
    {
     "name": "stdout",
     "output_type": "stream",
     "text": [
      "Insert time by id:  0.04474639892578125\n"
     ]
    }
   ],
   "source": [
    "startTime = time.time()\n",
    "for i in range(1, maxLoops):\n",
    "    add_customer( i, i + 1, i + 2 )\n",
    "print(\"Insert time by id: \", (time.time()-startTime))"
   ]
  },
  {
   "cell_type": "code",
   "execution_count": 222,
   "metadata": {},
   "outputs": [
    {
     "name": "stdout",
     "output_type": "stream",
     "text": [
      "All is OK! :)\n"
     ]
    }
   ],
   "source": [
    "print (\"All is OK! :)\")"
   ]
  },
  {
   "cell_type": "code",
   "execution_count": 226,
   "metadata": {},
   "outputs": [
    {
     "name": "stderr",
     "output_type": "stream",
     "text": [
      "ERROR:root:Requested phone number is not found 21212\n"
     ]
    },
    {
     "name": "stdout",
     "output_type": "stream",
     "text": [
      "3\n",
      "'2'\n",
      "None\n"
     ]
    }
   ],
   "source": [
    "#    (key, meta, bins) = client.select(key, ['name'])\n",
    "#aeroQuery.select(\"lifetime_value\")\n",
    "#aeroQuery.where(predicates.equals(\"phone_number\", \"11\"))\n",
    "#results = aeroQuery.results( {'total_timeout':2000})\n",
    "#print(results)\n",
    "\n",
    "print(get_ltv_by_id(1))\n",
    "print(\"'\"+str(get_bin_by_id(1,\"phone_number\"))+\"'\")\n",
    "print(get_ltv_by_phone(21212))"
   ]
  },
  {
   "cell_type": "code",
   "execution_count": 211,
   "metadata": {},
   "outputs": [],
   "source": [
    "# Close the connection to the Aerospike cluster\n",
    "client.close()"
   ]
  },
  {
   "cell_type": "code",
   "execution_count": null,
   "metadata": {},
   "outputs": [],
   "source": []
  }
 ],
 "metadata": {
  "kernelspec": {
   "display_name": "Python 3",
   "language": "python",
   "name": "python3"
  },
  "language_info": {
   "codemirror_mode": {
    "name": "ipython",
    "version": 3
   },
   "file_extension": ".py",
   "mimetype": "text/x-python",
   "name": "python",
   "nbconvert_exporter": "python",
   "pygments_lexer": "ipython3",
   "version": "3.7.3"
  }
 },
 "nbformat": 4,
 "nbformat_minor": 4
}
