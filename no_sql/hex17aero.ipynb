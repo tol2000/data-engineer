{
 "cells": [
  {
   "cell_type": "code",
   "execution_count": null,
   "metadata": {},
   "outputs": [],
   "source": [
    "key"
   ]
  },
  {
   "cell_type": "code",
   "execution_count": null,
   "metadata": {},
   "outputs": [],
   "source": [
    "from __future__ import print_function\n",
    "import aerospike\n",
    "import logging"
   ]
  },
  {
   "cell_type": "code",
   "execution_count": null,
   "metadata": {},
   "outputs": [],
   "source": [
    "# Configure the client\n",
    "config = {\n",
    "  'hosts': [ ('127.0.0.1', 3000) ]\n",
    "}"
   ]
  },
  {
   "cell_type": "code",
   "execution_count": null,
   "metadata": {},
   "outputs": [],
   "source": [
    "# Create a client and connect it to the cluster\n",
    "try:\n",
    "  client = aerospike.client(config).connect()\n",
    "except:\n",
    "  import sys\n",
    "  print(\"failed to connect to the cluster with\", config['hosts'])\n",
    "  sys.exit(1)"
   ]
  },
  {
   "cell_type": "code",
   "execution_count": null,
   "metadata": {},
   "outputs": [],
   "source": [
    "store = {}"
   ]
  },
  {
   "cell_type": "code",
   "execution_count": null,
   "metadata": {},
   "outputs": [],
   "source": [
    "def add_customer(customer_id, phone_number, lifetime_value):\n",
    "    store[customer_id] = {'phone': phone_number, 'ltv': lifetime_value}"
   ]
  },
  {
   "cell_type": "code",
   "execution_count": null,
   "metadata": {},
   "outputs": [],
   "source": [
    "def get_ltv_by_id(customer_id):\n",
    "    item = store.get(customer_id, {})\n",
    "    if (item == {}):\n",
    "        logging.error('Requested non-existent customer ' + str(customer_id))\n",
    "    else:\n",
    "        return item.get('ltv')"
   ]
  },
  {
   "cell_type": "code",
   "execution_count": null,
   "metadata": {},
   "outputs": [],
   "source": [
    "def get_ltv_by_phone(phone_number):\n",
    "    for v in store.values():\n",
    "        if (v['phone'] == phone_number):\n",
    "            return v['ltv']\n",
    "    logging.error('Requested phone number is not found ' + str(phone_number))"
   ]
  },
  {
   "cell_type": "code",
   "execution_count": null,
   "metadata": {},
   "outputs": [],
   "source": [
    "for i in range(0,1000):\n",
    "    add_customer(i,i,i + 1)\n",
    "\n",
    "for i in range(0,1000):\n",
    "    assert (i + 1 == get_ltv_by_id(i)), \"No LTV by ID \" + str(i)\n",
    "    assert (i + 1 == get_ltv_by_phone(i)), \"No LTV by phone \" + str(i)\n"
   ]
  },
  {
   "cell_type": "code",
   "execution_count": null,
   "metadata": {},
   "outputs": [],
   "source": [
    "# Close the connection to the Aerospike cluster\n",
    "client.close()"
   ]
  }
 ],
 "metadata": {
  "kernelspec": {
   "display_name": "Python 3",
   "language": "python",
   "name": "python3"
  },
  "language_info": {
   "codemirror_mode": {
    "name": "ipython",
    "version": 3
   },
   "file_extension": ".py",
   "mimetype": "text/x-python",
   "name": "python",
   "nbconvert_exporter": "python",
   "pygments_lexer": "ipython3",
   "version": "3.7.3"
  }
 },
 "nbformat": 4,
 "nbformat_minor": 4
}
